{
  "nbformat": 4,
  "nbformat_minor": 0,
  "metadata": {
    "colab": {
      "name": "HW 1. Dolly Wei Mei Huang.ipynb",
      "provenance": [],
      "include_colab_link": true
    },
    "kernelspec": {
      "name": "python3",
      "display_name": "Python 3"
    }
  },
  "cells": [
    {
      "cell_type": "markdown",
      "metadata": {
        "id": "view-in-github",
        "colab_type": "text"
      },
      "source": [
        "<a href=\"https://colab.research.google.com/github/dollytwn/nyu-python-public-policy/blob/master/HW_1_Dolly_Wei_Mei_Huang.ipynb\" target=\"_parent\"><img src=\"https://colab.research.google.com/assets/colab-badge.svg\" alt=\"Open In Colab\"/></a>"
      ]
    },
    {
      "cell_type": "code",
      "metadata": {
        "id": "igthGdGGXYUj",
        "colab_type": "code",
        "colab": {}
      },
      "source": [
        "import pandas as pd"
      ],
      "execution_count": 0,
      "outputs": []
    },
    {
      "cell_type": "code",
      "metadata": {
        "id": "elsx4TqnXdbF",
        "colab_type": "code",
        "colab": {}
      },
      "source": [
        "from google.colab import drive"
      ],
      "execution_count": 0,
      "outputs": []
    },
    {
      "cell_type": "code",
      "metadata": {
        "id": "SfSQG8z3Xfyo",
        "colab_type": "code",
        "colab": {
          "base_uri": "https://localhost:8080/",
          "height": 34
        },
        "outputId": "73efa51c-3d2c-4f87-b06d-7dbc89b085c3"
      },
      "source": [
        "drive.mount('/content/drive')"
      ],
      "execution_count": 3,
      "outputs": [
        {
          "output_type": "stream",
          "text": [
            "Drive already mounted at /content/drive; to attempt to forcibly remount, call drive.mount(\"/content/drive\", force_remount=True).\n"
          ],
          "name": "stdout"
        }
      ]
    },
    {
      "cell_type": "code",
      "metadata": {
        "id": "FM1jIak4Xs6f",
        "colab_type": "code",
        "colab": {
          "base_uri": "https://localhost:8080/",
          "height": 71
        },
        "outputId": "324e1144-1051-4af5-e90f-ad1be2dfc731"
      },
      "source": [
        "df = pd.read_csv('/content/drive/My Drive/Data for Python/311_Service_Requests_2018-19.csv', header='infer')"
      ],
      "execution_count": 4,
      "outputs": [
        {
          "output_type": "stream",
          "text": [
            "/usr/local/lib/python3.6/dist-packages/IPython/core/interactiveshell.py:2718: DtypeWarning: Columns (8,17,20,31,34) have mixed types. Specify dtype option on import or set low_memory=False.\n",
            "  interactivity=interactivity, compiler=compiler, result=result)\n"
          ],
          "name": "stderr"
        }
      ]
    },
    {
      "cell_type": "code",
      "metadata": {
        "id": "AOzAMNYEX0pb",
        "colab_type": "code",
        "colab": {
          "base_uri": "https://localhost:8080/",
          "height": 581
        },
        "outputId": "479ff93e-7d82-4c03-f3fe-d2b6f7d74cfc"
      },
      "source": [
        "df.head()"
      ],
      "execution_count": 5,
      "outputs": [
        {
          "output_type": "execute_result",
          "data": {
            "text/html": [
              "<div>\n",
              "<style scoped>\n",
              "    .dataframe tbody tr th:only-of-type {\n",
              "        vertical-align: middle;\n",
              "    }\n",
              "\n",
              "    .dataframe tbody tr th {\n",
              "        vertical-align: top;\n",
              "    }\n",
              "\n",
              "    .dataframe thead th {\n",
              "        text-align: right;\n",
              "    }\n",
              "</style>\n",
              "<table border=\"1\" class=\"dataframe\">\n",
              "  <thead>\n",
              "    <tr style=\"text-align: right;\">\n",
              "      <th></th>\n",
              "      <th>Unique Key</th>\n",
              "      <th>Created Date</th>\n",
              "      <th>Closed Date</th>\n",
              "      <th>Agency</th>\n",
              "      <th>Agency Name</th>\n",
              "      <th>Complaint Type</th>\n",
              "      <th>Descriptor</th>\n",
              "      <th>Location Type</th>\n",
              "      <th>Incident Zip</th>\n",
              "      <th>Incident Address</th>\n",
              "      <th>Street Name</th>\n",
              "      <th>Cross Street 1</th>\n",
              "      <th>Cross Street 2</th>\n",
              "      <th>Intersection Street 1</th>\n",
              "      <th>Intersection Street 2</th>\n",
              "      <th>Address Type</th>\n",
              "      <th>City</th>\n",
              "      <th>Landmark</th>\n",
              "      <th>Facility Type</th>\n",
              "      <th>Status</th>\n",
              "      <th>Due Date</th>\n",
              "      <th>Resolution Description</th>\n",
              "      <th>Resolution Action Updated Date</th>\n",
              "      <th>Community Board</th>\n",
              "      <th>BBL</th>\n",
              "      <th>Borough</th>\n",
              "      <th>X Coordinate (State Plane)</th>\n",
              "      <th>Y Coordinate (State Plane)</th>\n",
              "      <th>Open Data Channel Type</th>\n",
              "      <th>Park Facility Name</th>\n",
              "      <th>Park Borough</th>\n",
              "      <th>Vehicle Type</th>\n",
              "      <th>Taxi Company Borough</th>\n",
              "      <th>Taxi Pick Up Location</th>\n",
              "      <th>Bridge Highway Name</th>\n",
              "      <th>Bridge Highway Direction</th>\n",
              "      <th>Road Ramp</th>\n",
              "      <th>Bridge Highway Segment</th>\n",
              "      <th>Latitude</th>\n",
              "      <th>Longitude</th>\n",
              "      <th>Location</th>\n",
              "    </tr>\n",
              "  </thead>\n",
              "  <tbody>\n",
              "    <tr>\n",
              "      <th>0</th>\n",
              "      <td>39888071</td>\n",
              "      <td>08/01/2018 12:00:10 AM</td>\n",
              "      <td>08/01/2018 01:52:46 AM</td>\n",
              "      <td>DHS</td>\n",
              "      <td>Operations Unit - Department of Homeless Services</td>\n",
              "      <td>Homeless Person Assistance</td>\n",
              "      <td>NaN</td>\n",
              "      <td>Other</td>\n",
              "      <td>10029</td>\n",
              "      <td>200 EAST  109 STREET</td>\n",
              "      <td>EAST  109 STREET</td>\n",
              "      <td>3 AVENUE</td>\n",
              "      <td>2 AVENUE</td>\n",
              "      <td>NaN</td>\n",
              "      <td>NaN</td>\n",
              "      <td>ADDRESS</td>\n",
              "      <td>NEW YORK</td>\n",
              "      <td>NaN</td>\n",
              "      <td>NaN</td>\n",
              "      <td>Closed</td>\n",
              "      <td>08/01/2018 01:00:10 AM</td>\n",
              "      <td>The mobile outreach response team offered serv...</td>\n",
              "      <td>08/01/2018 01:52:46 AM</td>\n",
              "      <td>11 MANHATTAN</td>\n",
              "      <td>1.016560e+09</td>\n",
              "      <td>MANHATTAN</td>\n",
              "      <td>1000049.0</td>\n",
              "      <td>228317.0</td>\n",
              "      <td>MOBILE</td>\n",
              "      <td>Unspecified</td>\n",
              "      <td>MANHATTAN</td>\n",
              "      <td>NaN</td>\n",
              "      <td>NaN</td>\n",
              "      <td>NaN</td>\n",
              "      <td>NaN</td>\n",
              "      <td>NaN</td>\n",
              "      <td>NaN</td>\n",
              "      <td>NaN</td>\n",
              "      <td>40.793339</td>\n",
              "      <td>-73.942942</td>\n",
              "      <td>(40.79333937834769, -73.9429417746998)</td>\n",
              "    </tr>\n",
              "    <tr>\n",
              "      <th>1</th>\n",
              "      <td>39889166</td>\n",
              "      <td>08/01/2018 12:00:26 AM</td>\n",
              "      <td>08/18/2018 10:46:43 AM</td>\n",
              "      <td>HPD</td>\n",
              "      <td>Department of Housing Preservation and Develop...</td>\n",
              "      <td>DOOR/WINDOW</td>\n",
              "      <td>DOOR</td>\n",
              "      <td>RESIDENTIAL BUILDING</td>\n",
              "      <td>10031</td>\n",
              "      <td>528 WEST  136 STREET</td>\n",
              "      <td>WEST  136 STREET</td>\n",
              "      <td>NaN</td>\n",
              "      <td>NaN</td>\n",
              "      <td>NaN</td>\n",
              "      <td>NaN</td>\n",
              "      <td>ADDRESS</td>\n",
              "      <td>NEW YORK</td>\n",
              "      <td>NaN</td>\n",
              "      <td>NaN</td>\n",
              "      <td>Closed</td>\n",
              "      <td>NaN</td>\n",
              "      <td>The Department of Housing Preservation and Dev...</td>\n",
              "      <td>08/18/2018 10:46:43 AM</td>\n",
              "      <td>09 MANHATTAN</td>\n",
              "      <td>1.019880e+09</td>\n",
              "      <td>MANHATTAN</td>\n",
              "      <td>997239.0</td>\n",
              "      <td>238074.0</td>\n",
              "      <td>PHONE</td>\n",
              "      <td>Unspecified</td>\n",
              "      <td>MANHATTAN</td>\n",
              "      <td>NaN</td>\n",
              "      <td>NaN</td>\n",
              "      <td>NaN</td>\n",
              "      <td>NaN</td>\n",
              "      <td>NaN</td>\n",
              "      <td>NaN</td>\n",
              "      <td>NaN</td>\n",
              "      <td>40.820124</td>\n",
              "      <td>-73.953071</td>\n",
              "      <td>(40.82012422332215, -73.9530712339799)</td>\n",
              "    </tr>\n",
              "    <tr>\n",
              "      <th>2</th>\n",
              "      <td>39882869</td>\n",
              "      <td>08/01/2018 12:00:54 AM</td>\n",
              "      <td>08/01/2018 12:49:55 AM</td>\n",
              "      <td>NYPD</td>\n",
              "      <td>New York City Police Department</td>\n",
              "      <td>Noise - Residential</td>\n",
              "      <td>Loud Music/Party</td>\n",
              "      <td>Residential Building/House</td>\n",
              "      <td>11216</td>\n",
              "      <td>761 LINCOLN PLACE</td>\n",
              "      <td>LINCOLN PLACE</td>\n",
              "      <td>ROGERS AVENUE</td>\n",
              "      <td>NOSTRAND AVENUE</td>\n",
              "      <td>NaN</td>\n",
              "      <td>NaN</td>\n",
              "      <td>ADDRESS</td>\n",
              "      <td>BROOKLYN</td>\n",
              "      <td>NaN</td>\n",
              "      <td>Precinct</td>\n",
              "      <td>Closed</td>\n",
              "      <td>08/01/2018 08:00:54 AM</td>\n",
              "      <td>The Police Department responded to the complai...</td>\n",
              "      <td>08/01/2018 12:49:55 AM</td>\n",
              "      <td>08 BROOKLYN</td>\n",
              "      <td>3.012540e+09</td>\n",
              "      <td>BROOKLYN</td>\n",
              "      <td>997732.0</td>\n",
              "      <td>183674.0</td>\n",
              "      <td>MOBILE</td>\n",
              "      <td>Unspecified</td>\n",
              "      <td>BROOKLYN</td>\n",
              "      <td>NaN</td>\n",
              "      <td>NaN</td>\n",
              "      <td>NaN</td>\n",
              "      <td>NaN</td>\n",
              "      <td>NaN</td>\n",
              "      <td>NaN</td>\n",
              "      <td>NaN</td>\n",
              "      <td>40.670809</td>\n",
              "      <td>-73.951399</td>\n",
              "      <td>(40.67080917938279, -73.9513990916184)</td>\n",
              "    </tr>\n",
              "    <tr>\n",
              "      <th>3</th>\n",
              "      <td>39894246</td>\n",
              "      <td>08/01/2018 12:01:00 AM</td>\n",
              "      <td>08/02/2018 10:30:00 PM</td>\n",
              "      <td>DEP</td>\n",
              "      <td>Department of Environmental Protection</td>\n",
              "      <td>Noise</td>\n",
              "      <td>Noise: Construction Before/After Hours (NM1)</td>\n",
              "      <td>NaN</td>\n",
              "      <td>10010</td>\n",
              "      <td>NaN</td>\n",
              "      <td>NaN</td>\n",
              "      <td>NaN</td>\n",
              "      <td>NaN</td>\n",
              "      <td>5 AVENUE</td>\n",
              "      <td>EAST 21 STREET</td>\n",
              "      <td>INTERSECTION</td>\n",
              "      <td>NEW YORK</td>\n",
              "      <td>NaN</td>\n",
              "      <td>NaN</td>\n",
              "      <td>Closed</td>\n",
              "      <td>NaN</td>\n",
              "      <td>The Department of Environmental Protection did...</td>\n",
              "      <td>08/02/2018 10:30:00 PM</td>\n",
              "      <td>05 MANHATTAN</td>\n",
              "      <td>NaN</td>\n",
              "      <td>MANHATTAN</td>\n",
              "      <td>986878.0</td>\n",
              "      <td>208974.0</td>\n",
              "      <td>PHONE</td>\n",
              "      <td>Unspecified</td>\n",
              "      <td>MANHATTAN</td>\n",
              "      <td>NaN</td>\n",
              "      <td>NaN</td>\n",
              "      <td>NaN</td>\n",
              "      <td>NaN</td>\n",
              "      <td>NaN</td>\n",
              "      <td>NaN</td>\n",
              "      <td>NaN</td>\n",
              "      <td>40.740262</td>\n",
              "      <td>-73.990517</td>\n",
              "      <td>(40.74026158873342, -73.99051651686905)</td>\n",
              "    </tr>\n",
              "    <tr>\n",
              "      <th>4</th>\n",
              "      <td>39881329</td>\n",
              "      <td>08/01/2018 12:01:00 AM</td>\n",
              "      <td>08/05/2018 12:00:00 AM</td>\n",
              "      <td>DSNY</td>\n",
              "      <td>Department of Sanitation</td>\n",
              "      <td>Request Large Bulky Item Collection</td>\n",
              "      <td>Request Large Bulky Item Collection</td>\n",
              "      <td>Sidewalk</td>\n",
              "      <td>11413</td>\n",
              "      <td>121-28 198 STREET</td>\n",
              "      <td>198 STREET</td>\n",
              "      <td>120 AVENUE</td>\n",
              "      <td>122 AVENUE</td>\n",
              "      <td>NaN</td>\n",
              "      <td>NaN</td>\n",
              "      <td>ADDRESS</td>\n",
              "      <td>Springfield Gardens</td>\n",
              "      <td>NaN</td>\n",
              "      <td>NaN</td>\n",
              "      <td>Closed</td>\n",
              "      <td>NaN</td>\n",
              "      <td>NaN</td>\n",
              "      <td>08/05/2018 12:00:00 AM</td>\n",
              "      <td>12 QUEENS</td>\n",
              "      <td>4.126830e+09</td>\n",
              "      <td>QUEENS</td>\n",
              "      <td>1053308.0</td>\n",
              "      <td>190084.0</td>\n",
              "      <td>PHONE</td>\n",
              "      <td>Unspecified</td>\n",
              "      <td>QUEENS</td>\n",
              "      <td>NaN</td>\n",
              "      <td>NaN</td>\n",
              "      <td>NaN</td>\n",
              "      <td>NaN</td>\n",
              "      <td>NaN</td>\n",
              "      <td>NaN</td>\n",
              "      <td>NaN</td>\n",
              "      <td>40.688144</td>\n",
              "      <td>-73.750990</td>\n",
              "      <td>(40.68814402968042, -73.75098958473612)</td>\n",
              "    </tr>\n",
              "  </tbody>\n",
              "</table>\n",
              "</div>"
            ],
            "text/plain": [
              "   Unique Key  ...                                 Location\n",
              "0    39888071  ...   (40.79333937834769, -73.9429417746998)\n",
              "1    39889166  ...   (40.82012422332215, -73.9530712339799)\n",
              "2    39882869  ...   (40.67080917938279, -73.9513990916184)\n",
              "3    39894246  ...  (40.74026158873342, -73.99051651686905)\n",
              "4    39881329  ...  (40.68814402968042, -73.75098958473612)\n",
              "\n",
              "[5 rows x 41 columns]"
            ]
          },
          "metadata": {
            "tags": []
          },
          "execution_count": 5
        }
      ]
    },
    {
      "cell_type": "code",
      "metadata": {
        "id": "QrEbeTQtZ6p0",
        "colab_type": "code",
        "colab": {
          "base_uri": "https://localhost:8080/",
          "height": 445
        },
        "outputId": "70bbd47c-7da2-4960-93a2-9979aa230ab7"
      },
      "source": [
        "df.tail()"
      ],
      "execution_count": 6,
      "outputs": [
        {
          "output_type": "execute_result",
          "data": {
            "text/html": [
              "<div>\n",
              "<style scoped>\n",
              "    .dataframe tbody tr th:only-of-type {\n",
              "        vertical-align: middle;\n",
              "    }\n",
              "\n",
              "    .dataframe tbody tr th {\n",
              "        vertical-align: top;\n",
              "    }\n",
              "\n",
              "    .dataframe thead th {\n",
              "        text-align: right;\n",
              "    }\n",
              "</style>\n",
              "<table border=\"1\" class=\"dataframe\">\n",
              "  <thead>\n",
              "    <tr style=\"text-align: right;\">\n",
              "      <th></th>\n",
              "      <th>Unique Key</th>\n",
              "      <th>Created Date</th>\n",
              "      <th>Closed Date</th>\n",
              "      <th>Agency</th>\n",
              "      <th>Agency Name</th>\n",
              "      <th>Complaint Type</th>\n",
              "      <th>Descriptor</th>\n",
              "      <th>Location Type</th>\n",
              "      <th>Incident Zip</th>\n",
              "      <th>Incident Address</th>\n",
              "      <th>Street Name</th>\n",
              "      <th>Cross Street 1</th>\n",
              "      <th>Cross Street 2</th>\n",
              "      <th>Intersection Street 1</th>\n",
              "      <th>Intersection Street 2</th>\n",
              "      <th>Address Type</th>\n",
              "      <th>City</th>\n",
              "      <th>Landmark</th>\n",
              "      <th>Facility Type</th>\n",
              "      <th>Status</th>\n",
              "      <th>Due Date</th>\n",
              "      <th>Resolution Description</th>\n",
              "      <th>Resolution Action Updated Date</th>\n",
              "      <th>Community Board</th>\n",
              "      <th>BBL</th>\n",
              "      <th>Borough</th>\n",
              "      <th>X Coordinate (State Plane)</th>\n",
              "      <th>Y Coordinate (State Plane)</th>\n",
              "      <th>Open Data Channel Type</th>\n",
              "      <th>Park Facility Name</th>\n",
              "      <th>Park Borough</th>\n",
              "      <th>Vehicle Type</th>\n",
              "      <th>Taxi Company Borough</th>\n",
              "      <th>Taxi Pick Up Location</th>\n",
              "      <th>Bridge Highway Name</th>\n",
              "      <th>Bridge Highway Direction</th>\n",
              "      <th>Road Ramp</th>\n",
              "      <th>Bridge Highway Segment</th>\n",
              "      <th>Latitude</th>\n",
              "      <th>Longitude</th>\n",
              "      <th>Location</th>\n",
              "    </tr>\n",
              "  </thead>\n",
              "  <tbody>\n",
              "    <tr>\n",
              "      <th>2859195</th>\n",
              "      <td>43619262</td>\n",
              "      <td>08/24/2019 02:00:14 AM</td>\n",
              "      <td>NaN</td>\n",
              "      <td>NYPD</td>\n",
              "      <td>New York City Police Department</td>\n",
              "      <td>Noise - Street/Sidewalk</td>\n",
              "      <td>Loud Music/Party</td>\n",
              "      <td>Street/Sidewalk</td>\n",
              "      <td>10463</td>\n",
              "      <td>3308 BAILEY AVENUE</td>\n",
              "      <td>BAILEY AVENUE</td>\n",
              "      <td>WEST  233 STREET</td>\n",
              "      <td>BAILEY PLACE</td>\n",
              "      <td>WEST  233 STREET</td>\n",
              "      <td>BAILEY PLACE</td>\n",
              "      <td>NaN</td>\n",
              "      <td>BRONX</td>\n",
              "      <td>BAILEY AVENUE</td>\n",
              "      <td>NaN</td>\n",
              "      <td>In Progress</td>\n",
              "      <td>NaN</td>\n",
              "      <td>NaN</td>\n",
              "      <td>NaN</td>\n",
              "      <td>08 BRONX</td>\n",
              "      <td>2.032610e+09</td>\n",
              "      <td>BRONX</td>\n",
              "      <td>1011611.0</td>\n",
              "      <td>259792.0</td>\n",
              "      <td>ONLINE</td>\n",
              "      <td>Unspecified</td>\n",
              "      <td>BRONX</td>\n",
              "      <td>NaN</td>\n",
              "      <td>NaN</td>\n",
              "      <td>NaN</td>\n",
              "      <td>NaN</td>\n",
              "      <td>NaN</td>\n",
              "      <td>NaN</td>\n",
              "      <td>NaN</td>\n",
              "      <td>40.879701</td>\n",
              "      <td>-73.901057</td>\n",
              "      <td>(40.87970084316435, -73.9010571445122)</td>\n",
              "    </tr>\n",
              "    <tr>\n",
              "      <th>2859196</th>\n",
              "      <td>43622052</td>\n",
              "      <td>08/24/2019 02:00:20 AM</td>\n",
              "      <td>NaN</td>\n",
              "      <td>NYPD</td>\n",
              "      <td>New York City Police Department</td>\n",
              "      <td>Noise - Street/Sidewalk</td>\n",
              "      <td>Loud Music/Party</td>\n",
              "      <td>Street/Sidewalk</td>\n",
              "      <td>11237</td>\n",
              "      <td>265 STOCKHOLM STREET</td>\n",
              "      <td>STOCKHOLM STREET</td>\n",
              "      <td>KNICKERBOCKER AVENUE</td>\n",
              "      <td>IRVING AVENUE</td>\n",
              "      <td>KNICKERBOCKER AVENUE</td>\n",
              "      <td>IRVING AVENUE</td>\n",
              "      <td>NaN</td>\n",
              "      <td>BROOKLYN</td>\n",
              "      <td>STOCKHOLM STREET</td>\n",
              "      <td>NaN</td>\n",
              "      <td>In Progress</td>\n",
              "      <td>NaN</td>\n",
              "      <td>NaN</td>\n",
              "      <td>NaN</td>\n",
              "      <td>04 BROOKLYN</td>\n",
              "      <td>3.032470e+09</td>\n",
              "      <td>BROOKLYN</td>\n",
              "      <td>1006278.0</td>\n",
              "      <td>194965.0</td>\n",
              "      <td>ONLINE</td>\n",
              "      <td>Unspecified</td>\n",
              "      <td>BROOKLYN</td>\n",
              "      <td>NaN</td>\n",
              "      <td>NaN</td>\n",
              "      <td>NaN</td>\n",
              "      <td>NaN</td>\n",
              "      <td>NaN</td>\n",
              "      <td>NaN</td>\n",
              "      <td>NaN</td>\n",
              "      <td>40.701783</td>\n",
              "      <td>-73.920555</td>\n",
              "      <td>(40.70178323733244, -73.92055493919345)</td>\n",
              "    </tr>\n",
              "    <tr>\n",
              "      <th>2859197</th>\n",
              "      <td>43625918</td>\n",
              "      <td>08/24/2019 02:00:27 AM</td>\n",
              "      <td>NaN</td>\n",
              "      <td>NYPD</td>\n",
              "      <td>New York City Police Department</td>\n",
              "      <td>Noise - Vehicle</td>\n",
              "      <td>Car/Truck Music</td>\n",
              "      <td>Street/Sidewalk</td>\n",
              "      <td>11233</td>\n",
              "      <td>560 RALPH AVENUE</td>\n",
              "      <td>RALPH AVENUE</td>\n",
              "      <td>ST JOHNS PLACE</td>\n",
              "      <td>LINCOLN PLACE</td>\n",
              "      <td>ST JOHNS PLACE</td>\n",
              "      <td>LINCOLN PLACE</td>\n",
              "      <td>NaN</td>\n",
              "      <td>BROOKLYN</td>\n",
              "      <td>RALPH AVENUE</td>\n",
              "      <td>NaN</td>\n",
              "      <td>In Progress</td>\n",
              "      <td>NaN</td>\n",
              "      <td>NaN</td>\n",
              "      <td>NaN</td>\n",
              "      <td>08 BROOKLYN</td>\n",
              "      <td>3.013870e+09</td>\n",
              "      <td>BROOKLYN</td>\n",
              "      <td>1005752.0</td>\n",
              "      <td>183382.0</td>\n",
              "      <td>PHONE</td>\n",
              "      <td>Unspecified</td>\n",
              "      <td>BROOKLYN</td>\n",
              "      <td>NaN</td>\n",
              "      <td>NaN</td>\n",
              "      <td>NaN</td>\n",
              "      <td>NaN</td>\n",
              "      <td>NaN</td>\n",
              "      <td>NaN</td>\n",
              "      <td>NaN</td>\n",
              "      <td>40.669992</td>\n",
              "      <td>-73.922489</td>\n",
              "      <td>(40.66999185896368, -73.9224889475533)</td>\n",
              "    </tr>\n",
              "    <tr>\n",
              "      <th>2859198</th>\n",
              "      <td>43622055</td>\n",
              "      <td>08/24/2019 02:00:54 AM</td>\n",
              "      <td>NaN</td>\n",
              "      <td>NYPD</td>\n",
              "      <td>New York City Police Department</td>\n",
              "      <td>Noise - Street/Sidewalk</td>\n",
              "      <td>Loud Music/Party</td>\n",
              "      <td>Street/Sidewalk</td>\n",
              "      <td>NaN</td>\n",
              "      <td>NaN</td>\n",
              "      <td>NaN</td>\n",
              "      <td>NaN</td>\n",
              "      <td>NaN</td>\n",
              "      <td>NaN</td>\n",
              "      <td>NaN</td>\n",
              "      <td>NaN</td>\n",
              "      <td>NaN</td>\n",
              "      <td>NaN</td>\n",
              "      <td>NaN</td>\n",
              "      <td>In Progress</td>\n",
              "      <td>NaN</td>\n",
              "      <td>NaN</td>\n",
              "      <td>NaN</td>\n",
              "      <td>0 Unspecified</td>\n",
              "      <td>NaN</td>\n",
              "      <td>Unspecified</td>\n",
              "      <td>NaN</td>\n",
              "      <td>NaN</td>\n",
              "      <td>MOBILE</td>\n",
              "      <td>Unspecified</td>\n",
              "      <td>Unspecified</td>\n",
              "      <td>NaN</td>\n",
              "      <td>NaN</td>\n",
              "      <td>NaN</td>\n",
              "      <td>NaN</td>\n",
              "      <td>NaN</td>\n",
              "      <td>NaN</td>\n",
              "      <td>NaN</td>\n",
              "      <td>NaN</td>\n",
              "      <td>NaN</td>\n",
              "      <td>NaN</td>\n",
              "    </tr>\n",
              "    <tr>\n",
              "      <th>2859199</th>\n",
              "      <td>43623704</td>\n",
              "      <td>08/24/2019 02:00:56 AM</td>\n",
              "      <td>NaN</td>\n",
              "      <td>NYPD</td>\n",
              "      <td>New York City Police Department</td>\n",
              "      <td>Noise - Vehicle</td>\n",
              "      <td>Car/Truck Music</td>\n",
              "      <td>Street/Sidewalk</td>\n",
              "      <td>10303</td>\n",
              "      <td>2806 RICHMOND TERRACE</td>\n",
              "      <td>RICHMOND TERRACE</td>\n",
              "      <td>GIORDAN COURT</td>\n",
              "      <td>VAN PELT AVENUE</td>\n",
              "      <td>GIORDAN COURT</td>\n",
              "      <td>VAN PELT AVENUE</td>\n",
              "      <td>NaN</td>\n",
              "      <td>STATEN ISLAND</td>\n",
              "      <td>RICHMOND TERRACE</td>\n",
              "      <td>NaN</td>\n",
              "      <td>In Progress</td>\n",
              "      <td>NaN</td>\n",
              "      <td>NaN</td>\n",
              "      <td>NaN</td>\n",
              "      <td>01 STATEN ISLAND</td>\n",
              "      <td>5.011880e+09</td>\n",
              "      <td>STATEN ISLAND</td>\n",
              "      <td>941514.0</td>\n",
              "      <td>171315.0</td>\n",
              "      <td>ONLINE</td>\n",
              "      <td>Unspecified</td>\n",
              "      <td>STATEN ISLAND</td>\n",
              "      <td>NaN</td>\n",
              "      <td>NaN</td>\n",
              "      <td>NaN</td>\n",
              "      <td>NaN</td>\n",
              "      <td>NaN</td>\n",
              "      <td>NaN</td>\n",
              "      <td>NaN</td>\n",
              "      <td>40.636794</td>\n",
              "      <td>-74.153979</td>\n",
              "      <td>(40.63679359185655, -74.15397942810047)</td>\n",
              "    </tr>\n",
              "  </tbody>\n",
              "</table>\n",
              "</div>"
            ],
            "text/plain": [
              "         Unique Key  ...                                 Location\n",
              "2859195    43619262  ...   (40.87970084316435, -73.9010571445122)\n",
              "2859196    43622052  ...  (40.70178323733244, -73.92055493919345)\n",
              "2859197    43625918  ...   (40.66999185896368, -73.9224889475533)\n",
              "2859198    43622055  ...                                      NaN\n",
              "2859199    43623704  ...  (40.63679359185655, -74.15397942810047)\n",
              "\n",
              "[5 rows x 41 columns]"
            ]
          },
          "metadata": {
            "tags": []
          },
          "execution_count": 6
        }
      ]
    },
    {
      "cell_type": "code",
      "metadata": {
        "id": "3uIbpWz7X9rL",
        "colab_type": "code",
        "colab": {
          "base_uri": "https://localhost:8080/",
          "height": 34
        },
        "outputId": "7758aebe-112b-425d-bbd1-4a7415781ee2"
      },
      "source": [
        "df['Created Date']. min () #minium value in Created Date"
      ],
      "execution_count": 7,
      "outputs": [
        {
          "output_type": "execute_result",
          "data": {
            "text/plain": [
              "'01/01/2019 01:00:00 PM'"
            ]
          },
          "metadata": {
            "tags": []
          },
          "execution_count": 7
        }
      ]
    },
    {
      "cell_type": "code",
      "metadata": {
        "id": "j5q3HPzkYCzf",
        "colab_type": "code",
        "colab": {
          "base_uri": "https://localhost:8080/",
          "height": 34
        },
        "outputId": "db8a9631-8861-4a04-8a72-4c3ae9ffa7eb"
      },
      "source": [
        "df['Created Date']. max () #maximum value in Created Date"
      ],
      "execution_count": 8,
      "outputs": [
        {
          "output_type": "execute_result",
          "data": {
            "text/plain": [
              "'12/31/2018 12:59:41 PM'"
            ]
          },
          "metadata": {
            "tags": []
          },
          "execution_count": 8
        }
      ]
    },
    {
      "cell_type": "markdown",
      "metadata": {
        "id": "J6fgDJzigaBv",
        "colab_type": "text"
      },
      "source": [
        "The minimum value in Created Date is 01/01/2019 and the maximum value is 12/31/2018. Both of which are incorrect. I believe that it is because the system ranks min and max value by the first two number which is the month of the year instead of looking at it as a day (month, day, year)."
      ]
    },
    {
      "cell_type": "code",
      "metadata": {
        "id": "qdCo1zpWZSPM",
        "colab_type": "code",
        "colab": {
          "base_uri": "https://localhost:8080/",
          "height": 119
        },
        "outputId": "448ba647-2a6b-4274-f5b6-69e6434a1e8b"
      },
      "source": [
        "df['Created Date'].head()"
      ],
      "execution_count": 9,
      "outputs": [
        {
          "output_type": "execute_result",
          "data": {
            "text/plain": [
              "0    08/01/2018 12:00:10 AM\n",
              "1    08/01/2018 12:00:26 AM\n",
              "2    08/01/2018 12:00:54 AM\n",
              "3    08/01/2018 12:01:00 AM\n",
              "4    08/01/2018 12:01:00 AM\n",
              "Name: Created Date, dtype: object"
            ]
          },
          "metadata": {
            "tags": []
          },
          "execution_count": 9
        }
      ]
    },
    {
      "cell_type": "code",
      "metadata": {
        "id": "HbPkavaLfbqf",
        "colab_type": "code",
        "colab": {
          "base_uri": "https://localhost:8080/",
          "height": 51
        },
        "outputId": "ffb3023d-cf95-4edf-a7d2-e69e4013d6bf"
      },
      "source": [
        "df['Created Date'].head(1)"
      ],
      "execution_count": 10,
      "outputs": [
        {
          "output_type": "execute_result",
          "data": {
            "text/plain": [
              "0    08/01/2018 12:00:10 AM\n",
              "Name: Created Date, dtype: object"
            ]
          },
          "metadata": {
            "tags": []
          },
          "execution_count": 10
        }
      ]
    },
    {
      "cell_type": "code",
      "metadata": {
        "id": "A1OB8BRfZSjx",
        "colab_type": "code",
        "colab": {
          "base_uri": "https://localhost:8080/",
          "height": 119
        },
        "outputId": "aed1d790-d284-4c2b-d8b5-061f7532d1cd"
      },
      "source": [
        "df['Created Date'].tail()"
      ],
      "execution_count": 11,
      "outputs": [
        {
          "output_type": "execute_result",
          "data": {
            "text/plain": [
              "2859195    08/24/2019 02:00:14 AM\n",
              "2859196    08/24/2019 02:00:20 AM\n",
              "2859197    08/24/2019 02:00:27 AM\n",
              "2859198    08/24/2019 02:00:54 AM\n",
              "2859199    08/24/2019 02:00:56 AM\n",
              "Name: Created Date, dtype: object"
            ]
          },
          "metadata": {
            "tags": []
          },
          "execution_count": 11
        }
      ]
    },
    {
      "cell_type": "code",
      "metadata": {
        "id": "-WJ7AD79fi3x",
        "colab_type": "code",
        "colab": {
          "base_uri": "https://localhost:8080/",
          "height": 51
        },
        "outputId": "b399d938-3229-4910-c9cd-0e980d61505d"
      },
      "source": [
        "df['Created Date'].tail(1)"
      ],
      "execution_count": 12,
      "outputs": [
        {
          "output_type": "execute_result",
          "data": {
            "text/plain": [
              "2859199    08/24/2019 02:00:56 AM\n",
              "Name: Created Date, dtype: object"
            ]
          },
          "metadata": {
            "tags": []
          },
          "execution_count": 12
        }
      ]
    },
    {
      "cell_type": "markdown",
      "metadata": {
        "id": "1Xr8bfHIhSEE",
        "colab_type": "text"
      },
      "source": [
        "After further investigation and many failed attempts, I discovered the sequence of the entries of the 311 Dataset. The earlierst entries will be at the top of the list, which is the head, and the lattest entries will be at the bottom of the list, which is the tail. To find the min and max, it will be the very first and very last entry of the head and tail. Hence, I think that the min value for Created Date is 08/01/2018 12:00:10 AM and the max value is 08/24/2019 02:00:56 AM"
      ]
    },
    {
      "cell_type": "markdown",
      "metadata": {
        "id": "60xcU0pFi4ac",
        "colab_type": "text"
      },
      "source": [
        "In the data36 tutorials, I was able to follow everything until the article_read dataset. I was unable to import the data but I think that I got the idea. I also learned that I had to add a ( ) for all the mode tutorials. For example a/b has to be entered as (a/b) "
      ]
    },
    {
      "cell_type": "markdown",
      "metadata": {
        "id": "mB9ubaNPZqVH",
        "colab_type": "text"
      },
      "source": [
        ""
      ]
    }
  ]
}