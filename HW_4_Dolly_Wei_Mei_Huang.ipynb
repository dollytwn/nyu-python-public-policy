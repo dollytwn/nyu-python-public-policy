{
  "nbformat": 4,
  "nbformat_minor": 0,
  "metadata": {
    "colab": {
      "name": "HW 4. Dolly Wei Mei Huang.ipynb",
      "provenance": [],
      "include_colab_link": true
    },
    "kernelspec": {
      "name": "python3",
      "display_name": "Python 3"
    }
  },
  "cells": [
    {
      "cell_type": "markdown",
      "metadata": {
        "id": "view-in-github",
        "colab_type": "text"
      },
      "source": [
        "<a href=\"https://colab.research.google.com/github/dollytwn/nyu-python-public-policy/blob/master/HW_4_Dolly_Wei_Mei_Huang.ipynb\" target=\"_parent\"><img src=\"https://colab.research.google.com/assets/colab-badge.svg\" alt=\"Open In Colab\"/></a>"
      ]
    },
    {
      "cell_type": "code",
      "metadata": {
        "id": "CjcBuZA7T-bi",
        "colab_type": "code",
        "colab": {}
      },
      "source": [
        "import pandas as pd\n",
        "import matplotlib.pyplot as plt \n",
        "import numpy as np\n",
        "\n",
        "from google.colab import drive\n",
        "\n",
        "pd.set_option('display.max_columns', None)\n",
        "pd.set_option('display.max_rows', None)"
      ],
      "execution_count": 0,
      "outputs": []
    },
    {
      "cell_type": "code",
      "metadata": {
        "id": "uSSl3UogU2Yj",
        "colab_type": "code",
        "colab": {
          "base_uri": "https://localhost:8080/",
          "height": 88
        },
        "outputId": "ec3790c1-9445-434c-fadd-da12f854f241"
      },
      "source": [
        "drive.mount('/content/drive')\n",
        "df = pd.read_csv('/content/drive/My Drive/Data for Python/cleaned_311_data.csv', header='infer')"
      ],
      "execution_count": 2,
      "outputs": [
        {
          "output_type": "stream",
          "text": [
            "Drive already mounted at /content/drive; to attempt to forcibly remount, call drive.mount(\"/content/drive\", force_remount=True).\n"
          ],
          "name": "stdout"
        },
        {
          "output_type": "stream",
          "text": [
            "/usr/local/lib/python3.6/dist-packages/IPython/core/interactiveshell.py:2718: DtypeWarning: Columns (9,18,21,32,35) have mixed types. Specify dtype option on import or set low_memory=False.\n",
            "  interactivity=interactivity, compiler=compiler, result=result)\n"
          ],
          "name": "stderr"
        }
      ]
    },
    {
      "cell_type": "markdown",
      "metadata": {
        "id": "GWgyREolD3Pt",
        "colab_type": "text"
      },
      "source": [
        "# Step 1"
      ]
    },
    {
      "cell_type": "code",
      "metadata": {
        "id": "JjBTh-DdnyDQ",
        "colab_type": "code",
        "colab": {}
      },
      "source": [
        "noise = df[df.complaint_type == 'Noise - Residential']\n",
        "heatwater = df[df.complaint_type == 'HEAT/HOT WATER']\n",
        "other = df[(df.complaint_type != 'HEAT/HOT WATER') & (df.complaint_type != 'Noise - Residential')]"
      ],
      "execution_count": 0,
      "outputs": []
    },
    {
      "cell_type": "code",
      "metadata": {
        "id": "m8M7UnxMkYMu",
        "colab_type": "code",
        "colab": {
          "base_uri": "https://localhost:8080/",
          "height": 85
        },
        "outputId": "1b1f01ff-0208-43d4-f501-54dab25bbdf1"
      },
      "source": [
        "count_noise = noise.groupby('community_board').size().reset_index(name='count_of_311_requests')\n",
        "print(len(count_noise))\n",
        "\n",
        "count_heatwater = heatwater.groupby('community_board').size().reset_index(name='count_of_311_requests')\n",
        "print(len(count_heatwater))\n",
        "\n",
        "count_other = other.groupby('community_board').size().reset_index(name='count_of_311_requests')\n",
        "print(len(count_other))\n",
        "\n",
        "# note: we won't use count_all in the charts, but we can use it as a check that the subsets all add up to the correct total\n",
        "count_all = df.groupby('community_board').size().reset_index(name='count_of_311_requests')\n",
        "print(len(count_all))"
      ],
      "execution_count": 4,
      "outputs": [
        {
          "output_type": "stream",
          "text": [
            "69\n",
            "66\n",
            "77\n",
            "77\n"
          ],
          "name": "stdout"
        }
      ]
    },
    {
      "cell_type": "code",
      "metadata": {
        "id": "BFSckgkmklGX",
        "colab_type": "code",
        "colab": {}
      },
      "source": [
        "valid_borocds = ['101','102','103','104','105','106','107','108','109','110','111','112','201','202','203','204','205','206','207','208','209','210','211','212','301','302','303','304','305','306','307','308','309','310','311','312','313','314','315','316','317','318','401','402','403','404','405','406','407','408','409','410','411','412','413','414','501','502','503']"
      ],
      "execution_count": 0,
      "outputs": []
    },
    {
      "cell_type": "code",
      "metadata": {
        "id": "YGv6KwuWkly6",
        "colab_type": "code",
        "colab": {}
      },
      "source": [
        "# this function will recode the community_board value into borocd in a new column\n",
        "\n",
        "def recode_borocd_counts(row):\n",
        "  if row.community_board[0] != 'U':\n",
        "    if 'MANHATTAN' in row.community_board:\n",
        "      return '1' + row.community_board[0:2]\n",
        "    elif 'BRONX' in row.community_board:\n",
        "      return '2' + row.community_board[0:2]\n",
        "    elif 'BROOKLYN' in row.community_board:\n",
        "      return '3' + row.community_board[0:2]\n",
        "    elif 'QUEENS' in row.community_board:\n",
        "      return '4' + row.community_board[0:2]\n",
        "    elif 'STATEN ISLAND' in row.community_board:\n",
        "      return '5' + row.community_board[0:2]\n",
        "  else:\n",
        "    return 'Invalid borocd'\n",
        "\n",
        "# we can apply the function to each of our dataframes. this is the beauty of functions; you can reuse them on multiple objects!\n",
        "\n",
        "count_noise['borocd'] = count_noise.apply(recode_borocd_counts, axis=1)\n",
        "\n",
        "count_heatwater['borocd'] = count_heatwater.apply(recode_borocd_counts, axis=1)\n",
        "\n",
        "count_other['borocd'] = count_other.apply(recode_borocd_counts, axis=1)\n",
        "\n",
        "count_all['borocd'] = count_all.apply(recode_borocd_counts, axis=1)"
      ],
      "execution_count": 0,
      "outputs": []
    },
    {
      "cell_type": "code",
      "metadata": {
        "id": "JIEIiVOjk3rQ",
        "colab_type": "code",
        "colab": {
          "base_uri": "https://localhost:8080/",
          "height": 85
        },
        "outputId": "1c1b9558-1db1-40ea-a475-b1d2e5b20975"
      },
      "source": [
        "count_noise = count_noise[count_noise.borocd.isin(valid_borocds)]\n",
        "print(len(count_noise))\n",
        "\n",
        "count_heatwater = count_heatwater[count_heatwater.borocd.isin(valid_borocds)]\n",
        "print(len(count_heatwater))\n",
        "\n",
        "count_other = count_other[count_other.borocd.isin(valid_borocds)]\n",
        "print(len(count_other))\n",
        "\n",
        "count_all = count_all[count_all.borocd.isin(valid_borocds)]\n",
        "print(len(count_all))"
      ],
      "execution_count": 7,
      "outputs": [
        {
          "output_type": "stream",
          "text": [
            "59\n",
            "59\n",
            "59\n",
            "59\n"
          ],
          "name": "stdout"
        }
      ]
    },
    {
      "cell_type": "code",
      "metadata": {
        "id": "asRkm_VO7n03",
        "colab_type": "code",
        "colab": {
          "base_uri": "https://localhost:8080/",
          "height": 425
        },
        "outputId": "dddc69f3-bae9-4321-afa6-85169a4322c2"
      },
      "source": [
        "print(count_noise.head())\n",
        "print(count_heatwater.head())\n",
        "print(count_other.head())\n",
        "print(count_all.head())"
      ],
      "execution_count": 8,
      "outputs": [
        {
          "output_type": "stream",
          "text": [
            "    community_board  count_of_311_requests borocd\n",
            "1          01 BRONX                   3691    201\n",
            "2       01 BROOKLYN                   5844    301\n",
            "3      01 MANHATTAN                    722    101\n",
            "4         01 QUEENS                   4589    401\n",
            "5  01 STATEN ISLAND                   5052    501\n",
            "    community_board  count_of_311_requests borocd\n",
            "0          01 BRONX                   3346    201\n",
            "1       01 BROOKLYN                   2868    301\n",
            "2      01 MANHATTAN                    276    101\n",
            "3         01 QUEENS                   2466    401\n",
            "4  01 STATEN ISLAND                   1644    501\n",
            "    community_board  count_of_311_requests borocd\n",
            "1          01 BRONX                  20316    201\n",
            "2       01 BROOKLYN                  59389    301\n",
            "3      01 MANHATTAN                  20261    101\n",
            "4         01 QUEENS                  53370    401\n",
            "5  01 STATEN ISLAND                  58449    501\n",
            "    community_board  count_of_311_requests borocd\n",
            "1          01 BRONX                  27353    201\n",
            "2       01 BROOKLYN                  68101    301\n",
            "3      01 MANHATTAN                  21259    101\n",
            "4         01 QUEENS                  60425    401\n",
            "5  01 STATEN ISLAND                  65145    501\n"
          ],
          "name": "stdout"
        }
      ]
    },
    {
      "cell_type": "code",
      "metadata": {
        "id": "w9XsZWlUBh5X",
        "colab_type": "code",
        "colab": {
          "base_uri": "https://localhost:8080/",
          "height": 34
        },
        "outputId": "4c2a5c86-4222-4b99-dabc-1777dde65bc8"
      },
      "source": [
        "#Bronx\n",
        "27353 == 20316 + 3346 + 3691"
      ],
      "execution_count": 9,
      "outputs": [
        {
          "output_type": "execute_result",
          "data": {
            "text/plain": [
              "True"
            ]
          },
          "metadata": {
            "tags": []
          },
          "execution_count": 9
        }
      ]
    },
    {
      "cell_type": "code",
      "metadata": {
        "id": "SE50jOovBlHR",
        "colab_type": "code",
        "colab": {
          "base_uri": "https://localhost:8080/",
          "height": 34
        },
        "outputId": "126c13fd-c342-4283-fc4c-cbad15b48252"
      },
      "source": [
        "#Brooklyn\n",
        "68101 == 59389 + 2868 + 5844 "
      ],
      "execution_count": 10,
      "outputs": [
        {
          "output_type": "execute_result",
          "data": {
            "text/plain": [
              "True"
            ]
          },
          "metadata": {
            "tags": []
          },
          "execution_count": 10
        }
      ]
    },
    {
      "cell_type": "code",
      "metadata": {
        "id": "IFatnUpVBle-",
        "colab_type": "code",
        "colab": {
          "base_uri": "https://localhost:8080/",
          "height": 34
        },
        "outputId": "4cffde23-c917-4b69-dfab-514e8691443f"
      },
      "source": [
        "#Queens\n",
        "60425 == 53370 + 2466 + 4589 "
      ],
      "execution_count": 11,
      "outputs": [
        {
          "output_type": "execute_result",
          "data": {
            "text/plain": [
              "True"
            ]
          },
          "metadata": {
            "tags": []
          },
          "execution_count": 11
        }
      ]
    },
    {
      "cell_type": "markdown",
      "metadata": {
        "id": "JWkFvdQQDx5f",
        "colab_type": "text"
      },
      "source": [
        "#Step 2\n",
        "Create a stacked bar chart of 311 requests per community district. Each community district bar should be comprised of three stacked bars, one for each category listed below. The total height of each community district bar (the sum of the three stacked bars) should reflect the total count of 311 complaints per community district.\n",
        "\n",
        "  - number of 'Noise - Residential' complaints per community district\n",
        "  - number of 'HEAT/HOT WATER' complaints per community district\n",
        "  - number of other complaints per community district"
      ]
    },
    {
      "cell_type": "code",
      "metadata": {
        "id": "SsLjp9_cdlbf",
        "colab_type": "code",
        "colab": {
          "base_uri": "https://localhost:8080/",
          "height": 413
        },
        "outputId": "617fffe5-6b02-4469-da6c-4c825d155325"
      },
      "source": [
        "# number of 'HEAT/HOT WATER' complaints per community district\n",
        "# list of bar positions on x axis\n",
        "position_on_x = np.arange(len(count_noise))\n",
        "\n",
        "# original set of counts data\n",
        "# note: it's important to use np.array(series) to convert the pandas series into an array. \n",
        "# if you don't do this, the stacking won't work corectly\n",
        "residentialnoise_counts = np.array(count_noise.sort_values(by='count_of_311_requests', ascending=False).count_of_311_requests)\n",
        "\n",
        "# creating an array (aka list) of test data so we can easily visualize how the stacking works\n",
        "test_counts = np.full(len(count_noise),5000)\n",
        "\n",
        "plt.figure(figsize=(15, 6))\n",
        "\n",
        "# need to name the plots as objects in order to access their color attributes in the legend\n",
        "plot1 = plt.bar(\n",
        "  position_on_x,\n",
        "  test_counts,\n",
        "  align='center',\n",
        "  color='blue',\n",
        "  label='Test Counts'\n",
        ")\n",
        "# the second plot gets rendered on top of the first\n",
        "plot2 = plt.bar(\n",
        "  position_on_x,\n",
        "  residentialnoise_counts,\n",
        "  bottom=test_counts, \n",
        "  # bottom defines the starting number to which each y value will be added instead of starting at 2000\n",
        "  # the counts value will get added to the corresponding counts_plus_10000 value\n",
        "  align='center',\n",
        "  color='cyan',\n",
        "  label='Noise-Residential Complaint Counts'\n",
        ")\n",
        "plt.xticks(position_on_x, count_heatwater.sort_values(by='count_of_311_requests', ascending=False).borocd, rotation=90)\n",
        "\n",
        "plt.title('Noise-Residential complaints per Community District')\n",
        "plt.xlabel('BoroCD')\n",
        "plt.ylabel('# of Noise-Residential complaints')\n",
        "plt.legend() # defaults to putting legend in top right\n",
        "\n",
        "plt.show()"
      ],
      "execution_count": 12,
      "outputs": [
        {
          "output_type": "display_data",
          "data": {
            "image/png": "[encoded data removed]",
            "text/plain": [
              "<Figure size 1080x432 with 1 Axes>"
            ]
          },
          "metadata": {
            "tags": []
          }
        }
      ]
    },
    {
      "cell_type": "code",
      "metadata": {
        "id": "LFf_rD8H1Gof",
        "colab_type": "code",
        "colab": {
          "base_uri": "https://localhost:8080/",
          "height": 413
        },
        "outputId": "aab7c04c-bd7e-4b2f-f362-9a1a8a212ab7"
      },
      "source": [
        "# number of 'HEAT/HOT WATER' complaints per community district\n",
        "# list of bar positions on x axis\n",
        "position_on_x = np.arange(len(count_heatwater))\n",
        "\n",
        "# original set of counts data\n",
        "# note: it's important to use np.array(series) to convert the pandas series into an array. \n",
        "# if you don't do this, the stacking won't work corectly\n",
        "heatwater_counts = np.array(count_heatwater.sort_values(by='count_of_311_requests', ascending=False).count_of_311_requests)\n",
        "\n",
        "# creating an array (aka list) of test data so we can easily visualize how the stacking works\n",
        "test_counts = np.full(len(count_heatwater),5000)\n",
        "\n",
        "plt.figure(figsize=(15, 6))\n",
        "\n",
        "# need to name the plots as objects in order to access their color attributes in the legend\n",
        "plot1 = plt.bar(\n",
        "  position_on_x,\n",
        "  test_counts,\n",
        "  align='center',\n",
        "  color='blue',\n",
        "  label='Test Counts'\n",
        ")\n",
        "# the second plot gets rendered on top of the first\n",
        "plot2 = plt.bar(\n",
        "  position_on_x,\n",
        "  heatwater_counts,\n",
        "  bottom=test_counts, \n",
        "  # bottom defines the starting number to which each y value will be added instead of starting at 2000\n",
        "  # the counts value will get added to the corresponding counts_plus_10000 value\n",
        "  align='center',\n",
        "  color='cyan',\n",
        "  label='Heat/Hot Water Complaint Counts'\n",
        ")\n",
        "plt.xticks(position_on_x, count_heatwater.sort_values(by='count_of_311_requests', ascending=False).borocd, rotation=90)\n",
        "\n",
        "plt.title('HEAT/HOT WATER complaints per Community District')\n",
        "plt.xlabel('BoroCD')\n",
        "plt.ylabel('# of HEAT/HOT WATER complaints')\n",
        "plt.legend() # defaults to putting legend in top right\n",
        "\n",
        "plt.show()"
      ],
      "execution_count": 13,
      "outputs": [
        {
          "output_type": "display_data",
          "data": {
            "image/png": "[encoded data removed]",
            "text/plain": [
              "<Figure size 1080x432 with 1 Axes>"
            ]
          },
          "metadata": {
            "tags": []
          }
        }
      ]
    },
    {
      "cell_type": "code",
      "metadata": {
        "id": "2Qdx24d1VVxs",
        "colab_type": "code",
        "colab": {
          "base_uri": "https://localhost:8080/",
          "height": 413
        },
        "outputId": "783716c8-d634-453d-b48c-a8ef46eafa30"
      },
      "source": [
        "# number of other complaints per community district\n",
        "# list of bar positions on x axis\n",
        "position_on_x = np.arange(len(count_other))\n",
        "\n",
        "# original set of counts data\n",
        "# note: it's important to use np.array(series) to convert the pandas series into an array. \n",
        "# if you don't do this, the stacking won't work corectly\n",
        "other_counts = np.array(count_other.sort_values(by='count_of_311_requests', ascending=False).count_of_311_requests)\n",
        "\n",
        "# creating an array (aka list) of test data so we can easily visualize how the stacking works\n",
        "test_counts = np.full(len(count_other),5000)\n",
        "\n",
        "plt.figure(figsize=(15, 6))\n",
        "\n",
        "# need to name the plots as objects in order to access their color attributes in the legend\n",
        "plot1 = plt.bar(\n",
        "  position_on_x,\n",
        "  test_counts,\n",
        "  align='center',\n",
        "  color='blue',\n",
        "  label='Test Count'\n",
        ")\n",
        "# the second plot gets rendered on top of the first\n",
        "plot2 = plt.bar(\n",
        "  position_on_x,\n",
        "  other_counts,\n",
        "  bottom=test_counts, \n",
        "  # bottom defines the starting number to which each y value will be added instead of starting at 2000\n",
        "  # the counts value will get added to the corresponding counts_plus_10000 value\n",
        "  align='center',\n",
        "  color='cyan',\n",
        "  label='Other Complaint Counts'\n",
        ")\n",
        "plt.xticks(position_on_x, count_other.sort_values(by='count_of_311_requests', ascending=False).borocd, rotation=90)\n",
        "\n",
        "plt.title('other complaints per community district')\n",
        "plt.xlabel('BoroCD')\n",
        "plt.ylabel('# of other complaints')\n",
        "plt.legend() # defaults to putting legend in top right\n",
        "\n",
        "plt.show()"
      ],
      "execution_count": 14,
      "outputs": [
        {
          "output_type": "display_data",
          "data": {
            "image/png": "[encoded data removed]",
            "text/plain": [
              "<Figure size 1080x432 with 1 Axes>"
            ]
          },
          "metadata": {
            "tags": []
          }
        }
      ]
    },
    {
      "cell_type": "code",
      "metadata": {
        "id": "qOzVgBVtC7OU",
        "colab_type": "code",
        "colab": {
          "base_uri": "https://localhost:8080/",
          "height": 130
        },
        "outputId": "9574f0e4-e8aa-454a-a831-656f44b9e395"
      },
      "source": [
        "# I tried to merge all three but I'm not sure how to fix this. \n",
        "\n",
        "# number of 'Noise - Residential' complaints per community district\n",
        "position_on_x1 = np.arange(len(count_noise))\n",
        "# number of 'HEAT/HOT WATER' complaints per community district\n",
        "position_on_x2 = np.arange(len(count_heatwater))\n",
        "# number of other complaints per community district\n",
        "position_on_x3 = np.arange(len(count_other))\n",
        "\n",
        "# original set of counts data\n",
        "# note: it's important to use np.array(series) to convert the pandas series into an array. \n",
        "# if you don't do this, the stacking won't work corectly\n",
        "residentialnoise_counts = np.array(count_noise.sort_values(by='count_of_311_requests', ascending=False).count_of_311_requests)\n",
        "heatwater_counts = np.array(count_heatwater.sort_values(by='count_of_311_requests', ascending=False).count_of_311_requests)\n",
        "other_counts = np.array(count_other.sort_values(by='count_of_311_requests', ascending=False).count_of_311_requests)\n",
        "\n",
        "\n",
        "# creating an array (aka list) of test data so we can easily visualize how the stacking works\n",
        "residentialnoise_counts = np.full(len(count_noise),5000)\n",
        "heatwater_counts = np.full(len(count_heatwater),5000)\n",
        "other_counts = np.full(len(count_other),5000)\n",
        "\n",
        "plt.figure(figsize=(15, 6))\n",
        "\n",
        "# need to name the plots as objects in order to access their color attributes in the legend\n",
        "plot1 = plt.bar(\n",
        "  position_on_x,\n",
        "  residentialnoise_counts,\n",
        "  bottom=residentialnoise_counts,\n",
        "  # bottom defines the starting number to which each y value will be added instead of starting at 0\n",
        "  # the counts value will get added to the corresponding counts_plus_10000 value\n",
        "  align='center',\n",
        "  color='blue',\n",
        "  label='Residential Noise Complaint Counts'\n",
        ")\n",
        "# the second plot gets rendered on top of the first\n",
        "plot2 = plt.bar(\n",
        "  position_on_x,\n",
        "  heatwater_counts,\n",
        "  bottom=heatwater_counts, \n",
        "  # bottom defines the starting number to which each y value will be added instead of starting at 0\n",
        "  # the counts value will get added to the corresponding counts_plus_10000 value\n",
        "  align='center',\n",
        "  color='cyan',\n",
        "  label='Heat Water Complaint Counts'\n",
        ")\n",
        "# the second plot gets rendered on top of the first\n",
        "plot3 = plt.bar(\n",
        "  position_on_x,\n",
        "  other_counts,\n",
        "  bottom=other_counts, \n",
        "  # bottom defines the starting number to which each y value will be added instead of starting at 0\n",
        "  # the counts value will get added to the corresponding counts_plus_10000 value\n",
        "  align='center',\n",
        "  color='pink',\n",
        "  label='Other Complaint Counts'\n",
        "\n",
        "\n",
        "plt.xticks(position_on_x, count_noise.sort_values(by='count_of_311_requests', ascending=False).borocd, rotation=90)\n",
        "\n",
        "plt.title('Count of 311 Requests per Community District')\n",
        "plt.xlabel('Community District')\n",
        "plt.ylabel('Number of Requests')\n",
        "plt.legend() # defaults to putting legend in top right\n",
        "\n",
        "plt.show()"
      ],
      "execution_count": 15,
      "outputs": [
        {
          "output_type": "error",
          "ename": "SyntaxError",
          "evalue": "ignored",
          "traceback": [
            "\u001b[0;36m  File \u001b[0;32m\"<ipython-input-15-047b4a36d2bf>\"\u001b[0;36m, line \u001b[0;32m56\u001b[0m\n\u001b[0;31m    plt.xticks(position_on_x, count_noise.sort_values(by='count_of_311_requests', ascending=False).borocd, rotation=90)\u001b[0m\n\u001b[0m      ^\u001b[0m\n\u001b[0;31mSyntaxError\u001b[0m\u001b[0;31m:\u001b[0m invalid syntax\n"
          ]
        }
      ]
    },
    {
      "cell_type": "markdown",
      "metadata": {
        "id": "5OIZhBOIXsbT",
        "colab_type": "text"
      },
      "source": [
        "#Step 3 \n",
        "Using the same three dataframes created in Step 1, create a scatter plot of community district population (x-axis) vs. community district 311 counts (y-axis) split out by complaint category (noise, heat/water, other). The scatter plot should show the counts of each of the three complaint categories in a different color."
      ]
    },
    {
      "cell_type": "code",
      "metadata": {
        "id": "bZ1Eb9svcvj7",
        "colab_type": "code",
        "colab": {}
      },
      "source": [
        "# Data source for population by Community District: https://data.cityofnewyork.us/City-Government/New-York-City-Population-By-Community-Districts/xi7c-iiu2/data\n",
        "# This time we'll load it directly from NYC Open Data instead of from Google Drive\n",
        "# Need to merge in population dataset to get population numbers\n",
        "population = pd.read_csv('https://data.cityofnewyork.us/api/views/xi7c-iiu2/rows.csv?accessType=DOWNLOAD', header='infer')"
      ],
      "execution_count": 0,
      "outputs": []
    },
    {
      "cell_type": "code",
      "metadata": {
        "id": "W3geMdJWc3qZ",
        "colab_type": "code",
        "colab": {}
      },
      "source": [
        "# Create a function recode_borocd_pop that combines and recodes the Borough and CD Number values to create a borocd unique ID\n",
        "\n",
        "def recode_borocd_pop(row):\n",
        "  if row.Borough == 'Manhattan':\n",
        "    return str(100 + row['CD Number'])\n",
        "  elif row.Borough == 'Bronx':\n",
        "    return str(200 + row['CD Number'])\n",
        "  elif row.Borough == 'Brooklyn':\n",
        "    return str(300 + row['CD Number'])\n",
        "  elif row.Borough == 'Queens':\n",
        "    return str(400 + row['CD Number'])\n",
        "  elif row.Borough == 'Staten Island':\n",
        "    return str(500 + row['CD Number'])\n",
        "  else:\n",
        "    return 'Invalid borocd'\n",
        "\n",
        "population['borocd'] = population.apply(recode_borocd_pop, axis=1)"
      ],
      "execution_count": 0,
      "outputs": []
    },
    {
      "cell_type": "code",
      "metadata": {
        "id": "GxHmB_v4_JLm",
        "colab_type": "code",
        "colab": {}
      },
      "source": [
        "# merging for 'Noise - Residential' data frame\n",
        "noise_merged_data = pd.merge(left=count_noise, right=population, left_on='borocd', right_on='borocd')\n",
        "\n",
        "# merging for 'HEAT/HOT WATER' data frame\n",
        "heatwater_merged_data = pd.merge(left=count_heatwater, right=population, left_on='borocd', right_on='borocd')\n",
        "\n",
        "# merging for 'Other' data frame\n",
        "other_merged_data = pd.merge(left=count_other, right=population, left_on='borocd', right_on='borocd')"
      ],
      "execution_count": 0,
      "outputs": []
    },
    {
      "cell_type": "code",
      "metadata": {
        "id": "gKt_CRXq15KP",
        "colab_type": "code",
        "colab": {}
      },
      "source": [
        "# define the data that will be used\n",
        "#np.array\n",
        "x = noise_merged_data['2010 Population']/1000\n",
        "y = noise_merged_data.count_of_311_requests\n",
        "\n",
        "# define the styling of the scatter plot\n",
        "color = '#a83232' # color of the circle. hex color picker: https://www.google.com/search?q=color+picker\n",
        "area = 50 # area of the circle in pixels\n",
        "\n",
        "plt.figure(figsize=(15, 6))\n",
        "\n",
        "plt.scatter(x, y, s=area, c=color, edgecolors='black', alpha=0.5) \n",
        "# s: size, c: color\n",
        "# edgecolors: outline color of the marker\n",
        "# alpha: transparency. 0 is 100% transparent. 1 is 100% opaque\n",
        "\n",
        "plt.title('Community district population vs. Community district 311 counts')\n",
        "plt.xlabel('Population in Community District (Thousands)')\n",
        "plt.ylabel('Community district 311 counts by Noise-Residential complaints') \n",
        "\n",
        "plt.show()"
      ],
      "execution_count": 0,
      "outputs": []
    },
    {
      "cell_type": "code",
      "metadata": {
        "id": "gKof1ZMcVQDd",
        "colab_type": "code",
        "colab": {}
      },
      "source": [
        "# define the data that will be used\n",
        "#np.array\n",
        "x = heatwater_merged_data['2010 Population']/1000\n",
        "y = heatwater_merged_data.count_of_311_requests\n",
        "\n",
        "# define the styling of the scatter plot\n",
        "color = '#a83232' # color of the circle. hex color picker: https://www.google.com/search?q=color+picker\n",
        "area = 50 # area of the circle in pixels\n",
        "\n",
        "plt.figure(figsize=(15, 6))\n",
        "\n",
        "plt.scatter(x, y, s=area, c=color, edgecolors='black', alpha=0.5) \n",
        "# s: size, c: color\n",
        "# edgecolors: outline color of the marker\n",
        "# alpha: transparency. 0 is 100% transparent. 1 is 100% opaque\n",
        "\n",
        "plt.title('Community district population vs. Community district 311 counts')\n",
        "plt.xlabel('Population in Community District (Thousands)')\n",
        "plt.ylabel('Community district 311 counts by Heat/Hot Water complaints') \n",
        "\n",
        "plt.show()"
      ],
      "execution_count": 0,
      "outputs": []
    },
    {
      "cell_type": "code",
      "metadata": {
        "id": "iTmjVEHGV0ge",
        "colab_type": "code",
        "colab": {}
      },
      "source": [
        "# define the data that will be used\n",
        "#np.array\n",
        "x = other_merged_data['2010 Population']/1000\n",
        "y = other_merged_data.count_of_311_requests\n",
        "\n",
        "# define the styling of the scatter plot\n",
        "color = '#a83232' # color of the circle. hex color picker: https://www.google.com/search?q=color+picker\n",
        "area = 50 # area of the circle in pixels\n",
        "\n",
        "plt.figure(figsize=(15, 6))\n",
        "\n",
        "plt.scatter(x, y, s=area, c=color, edgecolors='black', alpha=0.5) \n",
        "# s: size, c: color\n",
        "# edgecolors: outline color of the marker\n",
        "# alpha: transparency. 0 is 100% transparent. 1 is 100% opaque\n",
        "\n",
        "plt.title('Community district population vs. Community district 311 counts')\n",
        "plt.xlabel('Population in Community District (Thousands)')\n",
        "plt.ylabel('Community district 311 counts by Other complaints') \n",
        "\n",
        "plt.show()"
      ],
      "execution_count": 0,
      "outputs": []
    }
  ]
}