{
  "nbformat": 4,
  "nbformat_minor": 0,
  "metadata": {
    "colab": {
      "name": "HW 5. Dolly Wei Mei Huang.ipynb",
      "provenance": [],
      "collapsed_sections": [],
      "include_colab_link": true
    },
    "kernelspec": {
      "name": "python3",
      "display_name": "Python 3"
    }
  },
  "cells": [
    {
      "cell_type": "markdown",
      "metadata": {
        "id": "view-in-github",
        "colab_type": "text"
      },
      "source": [
        "<a href=\"https://colab.research.google.com/github/dollytwn/nyu-python-public-policy/blob/master/HW_5_Dolly_Wei_Mei_Huang.ipynb\" target=\"_parent\"><img src=\"https://colab.research.google.com/assets/colab-badge.svg\" alt=\"Open In Colab\"/></a>"
      ]
    },
    {
      "cell_type": "code",
      "metadata": {
        "id": "d2Kl7zKlY9_U",
        "colab_type": "code",
        "colab": {}
      },
      "source": [
        "import pandas as pd\n",
        "from google.colab import drive\n",
        "import matplotlib.pyplot as plt \n",
        "import numpy as np\n",
        "import statsmodels.api as sm # package for doing statistics"
      ],
      "execution_count": 0,
      "outputs": []
    },
    {
      "cell_type": "code",
      "metadata": {
        "id": "3e0SQZNzZJb_",
        "colab_type": "code",
        "colab": {}
      },
      "source": [
        "# You can use pd.set_option() to make sure you see all the rows and columns in your dataframe\n",
        "pd.set_option('display.max_columns', None)\n",
        "pd.set_option('display.max_rows', None)"
      ],
      "execution_count": 0,
      "outputs": []
    },
    {
      "cell_type": "code",
      "metadata": {
        "id": "lEpvUDAXZMEZ",
        "colab_type": "code",
        "outputId": "0623afaf-80a2-473b-c3cc-0396b1eb38a8",
        "colab": {
          "base_uri": "https://localhost:8080/",
          "height": 34
        }
      },
      "source": [
        "drive.mount('/content/drive')"
      ],
      "execution_count": 3,
      "outputs": [
        {
          "output_type": "stream",
          "text": [
            "Drive already mounted at /content/drive; to attempt to forcibly remount, call drive.mount(\"/content/drive\", force_remount=True).\n"
          ],
          "name": "stdout"
        }
      ]
    },
    {
      "cell_type": "markdown",
      "metadata": {
        "id": "SLOxao61h3DS",
        "colab_type": "text"
      },
      "source": [
        "#Step 1. load the datasets:\n",
        "Cleaned 311 data that excludes records with invalid community districts. Shared with you on Google Drive as cleaned_311_data_revised.csv\n",
        "NYC Open dataset that provides the total count of different types of homeless shelter buildings per community district.\n",
        "Data source page where you can preview the data: https://data.cityofnewyork.us/Social-Services/Buildings-by-Borough-and-Community-District/3qem-6v3v/data\n",
        "CSV data download link you can plug into the pd.read_csv() function: https://data.cityofnewyork.us/api/views/3qem-6v3v/rows.csv?accessType=DOWNLOAD"
      ]
    },
    {
      "cell_type": "code",
      "metadata": {
        "id": "t-lqA-OhhOSc",
        "colab_type": "code",
        "outputId": "8c3b0216-2cd9-4ee4-aa21-2c630f4e1502",
        "colab": {
          "base_uri": "https://localhost:8080/",
          "height": 71
        }
      },
      "source": [
        "df = pd.read_csv('/content/drive/My Drive/Data for Python/cleaned_311_data_revised.csv', header='infer')"
      ],
      "execution_count": 4,
      "outputs": [
        {
          "output_type": "stream",
          "text": [
            "/usr/local/lib/python3.6/dist-packages/IPython/core/interactiveshell.py:2718: DtypeWarning: Columns (10,19,20,22,33,36,37,38,39) have mixed types. Specify dtype option on import or set low_memory=False.\n",
            "  interactivity=interactivity, compiler=compiler, result=result)\n"
          ],
          "name": "stderr"
        }
      ]
    },
    {
      "cell_type": "code",
      "metadata": {
        "id": "JeS4_JQSiJ8j",
        "colab_type": "code",
        "colab": {}
      },
      "source": [
        "shelter = pd.read_csv('https://data.cityofnewyork.us/api/views/3qem-6v3v/rows.csv?accessType=DOWNLOAD', header='infer')"
      ],
      "execution_count": 0,
      "outputs": []
    },
    {
      "cell_type": "markdown",
      "metadata": {
        "id": "MfUuwUNUjJ2o",
        "colab_type": "text"
      },
      "source": [
        "#Step 2. \n",
        "Filter the shelter count dataframe to only keep rows where the value in the 'Report Date' column is '09/30/2019'"
      ]
    },
    {
      "cell_type": "code",
      "metadata": {
        "id": "927mHtX1qYIL",
        "colab_type": "code",
        "colab": {}
      },
      "source": [
        "shelter_filtered = shelter[shelter['Report Date'] == '09/30/2019']"
      ],
      "execution_count": 0,
      "outputs": []
    },
    {
      "cell_type": "code",
      "metadata": {
        "id": "llOxb_YTqe10",
        "colab_type": "code",
        "outputId": "fbfad41d-1f35-4551-acda-7140304e1e57",
        "colab": {
          "base_uri": "https://localhost:8080/",
          "height": 221
        }
      },
      "source": [
        "shelter_filtered.head()"
      ],
      "execution_count": 7,
      "outputs": [
        {
          "output_type": "execute_result",
          "data": {
            "text/html": [
              "<div>\n",
              "<style scoped>\n",
              "    .dataframe tbody tr th:only-of-type {\n",
              "        vertical-align: middle;\n",
              "    }\n",
              "\n",
              "    .dataframe tbody tr th {\n",
              "        vertical-align: top;\n",
              "    }\n",
              "\n",
              "    .dataframe thead th {\n",
              "        text-align: right;\n",
              "    }\n",
              "</style>\n",
              "<table border=\"1\" class=\"dataframe\">\n",
              "  <thead>\n",
              "    <tr style=\"text-align: right;\">\n",
              "      <th></th>\n",
              "      <th>Report Date</th>\n",
              "      <th>Borough</th>\n",
              "      <th>Community District</th>\n",
              "      <th>Adult Family Comm Hotel</th>\n",
              "      <th>Adult Family Shelter</th>\n",
              "      <th>Adult Shelter</th>\n",
              "      <th>Adult Shelter Comm Hotel</th>\n",
              "      <th>FWC Cluster</th>\n",
              "      <th>FWC Comm Hotel</th>\n",
              "      <th>FWC Shelter</th>\n",
              "    </tr>\n",
              "  </thead>\n",
              "  <tbody>\n",
              "    <tr>\n",
              "      <th>624</th>\n",
              "      <td>09/30/2019</td>\n",
              "      <td>Bronx</td>\n",
              "      <td>201</td>\n",
              "      <td>NaN</td>\n",
              "      <td>1.0</td>\n",
              "      <td>2.0</td>\n",
              "      <td>NaN</td>\n",
              "      <td>4.0</td>\n",
              "      <td>1.0</td>\n",
              "      <td>7.0</td>\n",
              "    </tr>\n",
              "    <tr>\n",
              "      <th>625</th>\n",
              "      <td>09/30/2019</td>\n",
              "      <td>Bronx</td>\n",
              "      <td>202</td>\n",
              "      <td>NaN</td>\n",
              "      <td>1.0</td>\n",
              "      <td>NaN</td>\n",
              "      <td>NaN</td>\n",
              "      <td>2.0</td>\n",
              "      <td>NaN</td>\n",
              "      <td>5.0</td>\n",
              "    </tr>\n",
              "    <tr>\n",
              "      <th>626</th>\n",
              "      <td>09/30/2019</td>\n",
              "      <td>Bronx</td>\n",
              "      <td>203</td>\n",
              "      <td>NaN</td>\n",
              "      <td>3.0</td>\n",
              "      <td>6.0</td>\n",
              "      <td>NaN</td>\n",
              "      <td>3.0</td>\n",
              "      <td>2.0</td>\n",
              "      <td>9.0</td>\n",
              "    </tr>\n",
              "    <tr>\n",
              "      <th>627</th>\n",
              "      <td>09/30/2019</td>\n",
              "      <td>Bronx</td>\n",
              "      <td>204</td>\n",
              "      <td>NaN</td>\n",
              "      <td>NaN</td>\n",
              "      <td>2.0</td>\n",
              "      <td>1.0</td>\n",
              "      <td>14.0</td>\n",
              "      <td>NaN</td>\n",
              "      <td>15.0</td>\n",
              "    </tr>\n",
              "    <tr>\n",
              "      <th>628</th>\n",
              "      <td>09/30/2019</td>\n",
              "      <td>Bronx</td>\n",
              "      <td>205</td>\n",
              "      <td>NaN</td>\n",
              "      <td>1.0</td>\n",
              "      <td>3.0</td>\n",
              "      <td>NaN</td>\n",
              "      <td>12.0</td>\n",
              "      <td>NaN</td>\n",
              "      <td>5.0</td>\n",
              "    </tr>\n",
              "  </tbody>\n",
              "</table>\n",
              "</div>"
            ],
            "text/plain": [
              "    Report Date Borough  Community District  Adult Family Comm Hotel  \\\n",
              "624  09/30/2019   Bronx                 201                      NaN   \n",
              "625  09/30/2019   Bronx                 202                      NaN   \n",
              "626  09/30/2019   Bronx                 203                      NaN   \n",
              "627  09/30/2019   Bronx                 204                      NaN   \n",
              "628  09/30/2019   Bronx                 205                      NaN   \n",
              "\n",
              "     Adult Family Shelter  Adult Shelter  Adult Shelter Comm Hotel  \\\n",
              "624                   1.0            2.0                       NaN   \n",
              "625                   1.0            NaN                       NaN   \n",
              "626                   3.0            6.0                       NaN   \n",
              "627                   NaN            2.0                       1.0   \n",
              "628                   1.0            3.0                       NaN   \n",
              "\n",
              "     FWC Cluster  FWC Comm Hotel  FWC Shelter  \n",
              "624          4.0             1.0          7.0  \n",
              "625          2.0             NaN          5.0  \n",
              "626          3.0             2.0          9.0  \n",
              "627         14.0             NaN         15.0  \n",
              "628         12.0             NaN          5.0  "
            ]
          },
          "metadata": {
            "tags": []
          },
          "execution_count": 7
        }
      ]
    },
    {
      "cell_type": "markdown",
      "metadata": {
        "id": "_-n0yy8EmIEF",
        "colab_type": "text"
      },
      "source": [
        "#Step 3. \n",
        "Create a new column in the shelter count dataframe that calculates the sum of all the individual count columns: 'Adult Family Comm Hotel', 'Adult Family Shelter', 'Adult Shelter', 'Adult Shelter Comm Hotel', 'FWC Cluster', 'FWC Comm Hotel', 'FWC Shelter'\n",
        "\n",
        "Tip: There are multiple ways to add these columns together. With one approach, you may find that your total column contains NaN values. This is because many of the columns contains NaN/empty values. When you add a real number to a NaN, the sum will be NaN. To get around this, you will need to fill in all the NaN values with 0 instead. Use the .fillna(0) method on your shelter count dataframe."
      ]
    },
    {
      "cell_type": "code",
      "metadata": {
        "id": "7QOVOdrmtDoi",
        "colab_type": "code",
        "colab": {}
      },
      "source": [
        "sum_individual_count: ['Adult Family Comm Hotel', 'Adult Family Shelter', 'Adult Shelter', 'Adult Shelter Comm Hotel', 'FWC Cluster', 'FWC Comm Hotel', 'FWC Shelter']"
      ],
      "execution_count": 0,
      "outputs": []
    },
    {
      "cell_type": "code",
      "metadata": {
        "id": "mhCSkp6mvO6F",
        "colab_type": "code",
        "outputId": "850bbbae-dee9-4b29-ede1-ae74493fd9e1",
        "colab": {
          "base_uri": "https://localhost:8080/",
          "height": 221
        }
      },
      "source": [
        "shelter_filtered = shelter_filtered.fillna(0)\n",
        "# quick check\n",
        "shelter_filtered.head()"
      ],
      "execution_count": 9,
      "outputs": [
        {
          "output_type": "execute_result",
          "data": {
            "text/html": [
              "<div>\n",
              "<style scoped>\n",
              "    .dataframe tbody tr th:only-of-type {\n",
              "        vertical-align: middle;\n",
              "    }\n",
              "\n",
              "    .dataframe tbody tr th {\n",
              "        vertical-align: top;\n",
              "    }\n",
              "\n",
              "    .dataframe thead th {\n",
              "        text-align: right;\n",
              "    }\n",
              "</style>\n",
              "<table border=\"1\" class=\"dataframe\">\n",
              "  <thead>\n",
              "    <tr style=\"text-align: right;\">\n",
              "      <th></th>\n",
              "      <th>Report Date</th>\n",
              "      <th>Borough</th>\n",
              "      <th>Community District</th>\n",
              "      <th>Adult Family Comm Hotel</th>\n",
              "      <th>Adult Family Shelter</th>\n",
              "      <th>Adult Shelter</th>\n",
              "      <th>Adult Shelter Comm Hotel</th>\n",
              "      <th>FWC Cluster</th>\n",
              "      <th>FWC Comm Hotel</th>\n",
              "      <th>FWC Shelter</th>\n",
              "    </tr>\n",
              "  </thead>\n",
              "  <tbody>\n",
              "    <tr>\n",
              "      <th>624</th>\n",
              "      <td>09/30/2019</td>\n",
              "      <td>Bronx</td>\n",
              "      <td>201</td>\n",
              "      <td>0.0</td>\n",
              "      <td>1.0</td>\n",
              "      <td>2.0</td>\n",
              "      <td>0.0</td>\n",
              "      <td>4.0</td>\n",
              "      <td>1.0</td>\n",
              "      <td>7.0</td>\n",
              "    </tr>\n",
              "    <tr>\n",
              "      <th>625</th>\n",
              "      <td>09/30/2019</td>\n",
              "      <td>Bronx</td>\n",
              "      <td>202</td>\n",
              "      <td>0.0</td>\n",
              "      <td>1.0</td>\n",
              "      <td>0.0</td>\n",
              "      <td>0.0</td>\n",
              "      <td>2.0</td>\n",
              "      <td>0.0</td>\n",
              "      <td>5.0</td>\n",
              "    </tr>\n",
              "    <tr>\n",
              "      <th>626</th>\n",
              "      <td>09/30/2019</td>\n",
              "      <td>Bronx</td>\n",
              "      <td>203</td>\n",
              "      <td>0.0</td>\n",
              "      <td>3.0</td>\n",
              "      <td>6.0</td>\n",
              "      <td>0.0</td>\n",
              "      <td>3.0</td>\n",
              "      <td>2.0</td>\n",
              "      <td>9.0</td>\n",
              "    </tr>\n",
              "    <tr>\n",
              "      <th>627</th>\n",
              "      <td>09/30/2019</td>\n",
              "      <td>Bronx</td>\n",
              "      <td>204</td>\n",
              "      <td>0.0</td>\n",
              "      <td>0.0</td>\n",
              "      <td>2.0</td>\n",
              "      <td>1.0</td>\n",
              "      <td>14.0</td>\n",
              "      <td>0.0</td>\n",
              "      <td>15.0</td>\n",
              "    </tr>\n",
              "    <tr>\n",
              "      <th>628</th>\n",
              "      <td>09/30/2019</td>\n",
              "      <td>Bronx</td>\n",
              "      <td>205</td>\n",
              "      <td>0.0</td>\n",
              "      <td>1.0</td>\n",
              "      <td>3.0</td>\n",
              "      <td>0.0</td>\n",
              "      <td>12.0</td>\n",
              "      <td>0.0</td>\n",
              "      <td>5.0</td>\n",
              "    </tr>\n",
              "  </tbody>\n",
              "</table>\n",
              "</div>"
            ],
            "text/plain": [
              "    Report Date Borough  Community District  Adult Family Comm Hotel  \\\n",
              "624  09/30/2019   Bronx                 201                      0.0   \n",
              "625  09/30/2019   Bronx                 202                      0.0   \n",
              "626  09/30/2019   Bronx                 203                      0.0   \n",
              "627  09/30/2019   Bronx                 204                      0.0   \n",
              "628  09/30/2019   Bronx                 205                      0.0   \n",
              "\n",
              "     Adult Family Shelter  Adult Shelter  Adult Shelter Comm Hotel  \\\n",
              "624                   1.0            2.0                       0.0   \n",
              "625                   1.0            0.0                       0.0   \n",
              "626                   3.0            6.0                       0.0   \n",
              "627                   0.0            2.0                       1.0   \n",
              "628                   1.0            3.0                       0.0   \n",
              "\n",
              "     FWC Cluster  FWC Comm Hotel  FWC Shelter  \n",
              "624          4.0             1.0          7.0  \n",
              "625          2.0             0.0          5.0  \n",
              "626          3.0             2.0          9.0  \n",
              "627         14.0             0.0         15.0  \n",
              "628         12.0             0.0          5.0  "
            ]
          },
          "metadata": {
            "tags": []
          },
          "execution_count": 9
        }
      ]
    },
    {
      "cell_type": "code",
      "metadata": {
        "id": "8IaPIewNr4gb",
        "colab_type": "code",
        "colab": {}
      },
      "source": [
        "shelter_filtered['total'] = shelter_filtered['Adult Family Comm Hotel'] + shelter_filtered['Adult Family Shelter'] + shelter_filtered['Adult Shelter'] + shelter_filtered['Adult Shelter Comm Hotel'] + shelter_filtered['FWC Cluster'] + shelter_filtered['FWC Comm Hotel'] + shelter_filtered['FWC Shelter']"
      ],
      "execution_count": 0,
      "outputs": []
    },
    {
      "cell_type": "code",
      "metadata": {
        "id": "23s5uab5tXAU",
        "colab_type": "code",
        "outputId": "7b862498-7f71-4481-d5a9-077eddd4997f",
        "colab": {
          "base_uri": "https://localhost:8080/",
          "height": 221
        }
      },
      "source": [
        "shelter_filtered.head()"
      ],
      "execution_count": 11,
      "outputs": [
        {
          "output_type": "execute_result",
          "data": {
            "text/html": [
              "<div>\n",
              "<style scoped>\n",
              "    .dataframe tbody tr th:only-of-type {\n",
              "        vertical-align: middle;\n",
              "    }\n",
              "\n",
              "    .dataframe tbody tr th {\n",
              "        vertical-align: top;\n",
              "    }\n",
              "\n",
              "    .dataframe thead th {\n",
              "        text-align: right;\n",
              "    }\n",
              "</style>\n",
              "<table border=\"1\" class=\"dataframe\">\n",
              "  <thead>\n",
              "    <tr style=\"text-align: right;\">\n",
              "      <th></th>\n",
              "      <th>Report Date</th>\n",
              "      <th>Borough</th>\n",
              "      <th>Community District</th>\n",
              "      <th>Adult Family Comm Hotel</th>\n",
              "      <th>Adult Family Shelter</th>\n",
              "      <th>Adult Shelter</th>\n",
              "      <th>Adult Shelter Comm Hotel</th>\n",
              "      <th>FWC Cluster</th>\n",
              "      <th>FWC Comm Hotel</th>\n",
              "      <th>FWC Shelter</th>\n",
              "      <th>total</th>\n",
              "    </tr>\n",
              "  </thead>\n",
              "  <tbody>\n",
              "    <tr>\n",
              "      <th>624</th>\n",
              "      <td>09/30/2019</td>\n",
              "      <td>Bronx</td>\n",
              "      <td>201</td>\n",
              "      <td>0.0</td>\n",
              "      <td>1.0</td>\n",
              "      <td>2.0</td>\n",
              "      <td>0.0</td>\n",
              "      <td>4.0</td>\n",
              "      <td>1.0</td>\n",
              "      <td>7.0</td>\n",
              "      <td>15.0</td>\n",
              "    </tr>\n",
              "    <tr>\n",
              "      <th>625</th>\n",
              "      <td>09/30/2019</td>\n",
              "      <td>Bronx</td>\n",
              "      <td>202</td>\n",
              "      <td>0.0</td>\n",
              "      <td>1.0</td>\n",
              "      <td>0.0</td>\n",
              "      <td>0.0</td>\n",
              "      <td>2.0</td>\n",
              "      <td>0.0</td>\n",
              "      <td>5.0</td>\n",
              "      <td>8.0</td>\n",
              "    </tr>\n",
              "    <tr>\n",
              "      <th>626</th>\n",
              "      <td>09/30/2019</td>\n",
              "      <td>Bronx</td>\n",
              "      <td>203</td>\n",
              "      <td>0.0</td>\n",
              "      <td>3.0</td>\n",
              "      <td>6.0</td>\n",
              "      <td>0.0</td>\n",
              "      <td>3.0</td>\n",
              "      <td>2.0</td>\n",
              "      <td>9.0</td>\n",
              "      <td>23.0</td>\n",
              "    </tr>\n",
              "    <tr>\n",
              "      <th>627</th>\n",
              "      <td>09/30/2019</td>\n",
              "      <td>Bronx</td>\n",
              "      <td>204</td>\n",
              "      <td>0.0</td>\n",
              "      <td>0.0</td>\n",
              "      <td>2.0</td>\n",
              "      <td>1.0</td>\n",
              "      <td>14.0</td>\n",
              "      <td>0.0</td>\n",
              "      <td>15.0</td>\n",
              "      <td>32.0</td>\n",
              "    </tr>\n",
              "    <tr>\n",
              "      <th>628</th>\n",
              "      <td>09/30/2019</td>\n",
              "      <td>Bronx</td>\n",
              "      <td>205</td>\n",
              "      <td>0.0</td>\n",
              "      <td>1.0</td>\n",
              "      <td>3.0</td>\n",
              "      <td>0.0</td>\n",
              "      <td>12.0</td>\n",
              "      <td>0.0</td>\n",
              "      <td>5.0</td>\n",
              "      <td>21.0</td>\n",
              "    </tr>\n",
              "  </tbody>\n",
              "</table>\n",
              "</div>"
            ],
            "text/plain": [
              "    Report Date Borough  Community District  Adult Family Comm Hotel  \\\n",
              "624  09/30/2019   Bronx                 201                      0.0   \n",
              "625  09/30/2019   Bronx                 202                      0.0   \n",
              "626  09/30/2019   Bronx                 203                      0.0   \n",
              "627  09/30/2019   Bronx                 204                      0.0   \n",
              "628  09/30/2019   Bronx                 205                      0.0   \n",
              "\n",
              "     Adult Family Shelter  Adult Shelter  Adult Shelter Comm Hotel  \\\n",
              "624                   1.0            2.0                       0.0   \n",
              "625                   1.0            0.0                       0.0   \n",
              "626                   3.0            6.0                       0.0   \n",
              "627                   0.0            2.0                       1.0   \n",
              "628                   1.0            3.0                       0.0   \n",
              "\n",
              "     FWC Cluster  FWC Comm Hotel  FWC Shelter  total  \n",
              "624          4.0             1.0          7.0   15.0  \n",
              "625          2.0             0.0          5.0    8.0  \n",
              "626          3.0             2.0          9.0   23.0  \n",
              "627         14.0             0.0         15.0   32.0  \n",
              "628         12.0             0.0          5.0   21.0  "
            ]
          },
          "metadata": {
            "tags": []
          },
          "execution_count": 11
        }
      ]
    },
    {
      "cell_type": "markdown",
      "metadata": {
        "id": "cjwEoY5XyDzO",
        "colab_type": "text"
      },
      "source": [
        "#Step 4. \n",
        "From the 311 dataset, create a subset of all the 311 requests where complaint_type == 'Homeless Person Assistance'"
      ]
    },
    {
      "cell_type": "code",
      "metadata": {
        "id": "KXJhCWZ6vfeo",
        "colab_type": "code",
        "colab": {}
      },
      "source": [
        "all_requests = df[df.complaint_type =='Homeless Person Assistance']"
      ],
      "execution_count": 0,
      "outputs": []
    },
    {
      "cell_type": "code",
      "metadata": {
        "id": "UC1fjH6Pzn8E",
        "colab_type": "code",
        "outputId": "6fd003d2-4dfc-43c9-9a50-1a6429fdbe94",
        "colab": {
          "base_uri": "https://localhost:8080/",
          "height": 496
        }
      },
      "source": [
        "df.head()"
      ],
      "execution_count": 13,
      "outputs": [
        {
          "output_type": "execute_result",
          "data": {
            "text/html": [
              "<div>\n",
              "<style scoped>\n",
              "    .dataframe tbody tr th:only-of-type {\n",
              "        vertical-align: middle;\n",
              "    }\n",
              "\n",
              "    .dataframe tbody tr th {\n",
              "        vertical-align: top;\n",
              "    }\n",
              "\n",
              "    .dataframe thead th {\n",
              "        text-align: right;\n",
              "    }\n",
              "</style>\n",
              "<table border=\"1\" class=\"dataframe\">\n",
              "  <thead>\n",
              "    <tr style=\"text-align: right;\">\n",
              "      <th></th>\n",
              "      <th>Unnamed: 0</th>\n",
              "      <th>Unnamed: 0.1</th>\n",
              "      <th>unique_key</th>\n",
              "      <th>created_date</th>\n",
              "      <th>closed_date</th>\n",
              "      <th>agency</th>\n",
              "      <th>agency_name</th>\n",
              "      <th>complaint_type</th>\n",
              "      <th>descriptor</th>\n",
              "      <th>location_type</th>\n",
              "      <th>incident_zip</th>\n",
              "      <th>incident_address</th>\n",
              "      <th>street_name</th>\n",
              "      <th>cross_street_1</th>\n",
              "      <th>cross_street_2</th>\n",
              "      <th>intersection_street_1</th>\n",
              "      <th>intersection_street_2</th>\n",
              "      <th>address_type</th>\n",
              "      <th>city</th>\n",
              "      <th>landmark</th>\n",
              "      <th>facility_type</th>\n",
              "      <th>status</th>\n",
              "      <th>due_date</th>\n",
              "      <th>resolution_description</th>\n",
              "      <th>resolution_action_updated_date</th>\n",
              "      <th>community_board</th>\n",
              "      <th>bbl</th>\n",
              "      <th>borough</th>\n",
              "      <th>x_coordinate_(state_plane)</th>\n",
              "      <th>y_coordinate_(state_plane)</th>\n",
              "      <th>open_data_channel_type</th>\n",
              "      <th>park_facility_name</th>\n",
              "      <th>park_borough</th>\n",
              "      <th>vehicle_type</th>\n",
              "      <th>taxi_company_borough</th>\n",
              "      <th>taxi_pick_up_location</th>\n",
              "      <th>bridge_highway_name</th>\n",
              "      <th>bridge_highway_direction</th>\n",
              "      <th>road_ramp</th>\n",
              "      <th>bridge_highway_segment</th>\n",
              "      <th>latitude</th>\n",
              "      <th>longitude</th>\n",
              "      <th>location</th>\n",
              "      <th>borocd</th>\n",
              "    </tr>\n",
              "  </thead>\n",
              "  <tbody>\n",
              "    <tr>\n",
              "      <th>0</th>\n",
              "      <td>0</td>\n",
              "      <td>0</td>\n",
              "      <td>39888071</td>\n",
              "      <td>08/01/2018 12:00:10 AM</td>\n",
              "      <td>08/01/2018 01:52:46 AM</td>\n",
              "      <td>DHS</td>\n",
              "      <td>Operations Unit - Department of Homeless Services</td>\n",
              "      <td>Homeless Person Assistance</td>\n",
              "      <td>NaN</td>\n",
              "      <td>Other</td>\n",
              "      <td>10029</td>\n",
              "      <td>200 EAST  109 STREET</td>\n",
              "      <td>EAST  109 STREET</td>\n",
              "      <td>3 AVENUE</td>\n",
              "      <td>2 AVENUE</td>\n",
              "      <td>NaN</td>\n",
              "      <td>NaN</td>\n",
              "      <td>ADDRESS</td>\n",
              "      <td>NEW YORK</td>\n",
              "      <td>NaN</td>\n",
              "      <td>NaN</td>\n",
              "      <td>Closed</td>\n",
              "      <td>08/01/2018 01:00:10 AM</td>\n",
              "      <td>The mobile outreach response team offered serv...</td>\n",
              "      <td>08/01/2018 01:52:46 AM</td>\n",
              "      <td>11 MANHATTAN</td>\n",
              "      <td>1.016560e+09</td>\n",
              "      <td>MANHATTAN</td>\n",
              "      <td>1000049.0</td>\n",
              "      <td>228317.0</td>\n",
              "      <td>MOBILE</td>\n",
              "      <td>Unspecified</td>\n",
              "      <td>MANHATTAN</td>\n",
              "      <td>NaN</td>\n",
              "      <td>NaN</td>\n",
              "      <td>NaN</td>\n",
              "      <td>NaN</td>\n",
              "      <td>NaN</td>\n",
              "      <td>NaN</td>\n",
              "      <td>NaN</td>\n",
              "      <td>40.793339</td>\n",
              "      <td>-73.942942</td>\n",
              "      <td>(40.79333937834769, -73.9429417746998)</td>\n",
              "      <td>111.0</td>\n",
              "    </tr>\n",
              "    <tr>\n",
              "      <th>1</th>\n",
              "      <td>1</td>\n",
              "      <td>1</td>\n",
              "      <td>39889166</td>\n",
              "      <td>08/01/2018 12:00:26 AM</td>\n",
              "      <td>08/18/2018 10:46:43 AM</td>\n",
              "      <td>HPD</td>\n",
              "      <td>Department of Housing Preservation and Develop...</td>\n",
              "      <td>DOOR/WINDOW</td>\n",
              "      <td>DOOR</td>\n",
              "      <td>RESIDENTIAL BUILDING</td>\n",
              "      <td>10031</td>\n",
              "      <td>528 WEST  136 STREET</td>\n",
              "      <td>WEST  136 STREET</td>\n",
              "      <td>NaN</td>\n",
              "      <td>NaN</td>\n",
              "      <td>NaN</td>\n",
              "      <td>NaN</td>\n",
              "      <td>ADDRESS</td>\n",
              "      <td>NEW YORK</td>\n",
              "      <td>NaN</td>\n",
              "      <td>NaN</td>\n",
              "      <td>Closed</td>\n",
              "      <td>NaN</td>\n",
              "      <td>The Department of Housing Preservation and Dev...</td>\n",
              "      <td>08/18/2018 10:46:43 AM</td>\n",
              "      <td>09 MANHATTAN</td>\n",
              "      <td>1.019880e+09</td>\n",
              "      <td>MANHATTAN</td>\n",
              "      <td>997239.0</td>\n",
              "      <td>238074.0</td>\n",
              "      <td>PHONE</td>\n",
              "      <td>Unspecified</td>\n",
              "      <td>MANHATTAN</td>\n",
              "      <td>NaN</td>\n",
              "      <td>NaN</td>\n",
              "      <td>NaN</td>\n",
              "      <td>NaN</td>\n",
              "      <td>NaN</td>\n",
              "      <td>NaN</td>\n",
              "      <td>NaN</td>\n",
              "      <td>40.820124</td>\n",
              "      <td>-73.953071</td>\n",
              "      <td>(40.82012422332215, -73.9530712339799)</td>\n",
              "      <td>109.0</td>\n",
              "    </tr>\n",
              "    <tr>\n",
              "      <th>2</th>\n",
              "      <td>2</td>\n",
              "      <td>2</td>\n",
              "      <td>39882869</td>\n",
              "      <td>08/01/2018 12:00:54 AM</td>\n",
              "      <td>08/01/2018 12:49:55 AM</td>\n",
              "      <td>NYPD</td>\n",
              "      <td>New York City Police Department</td>\n",
              "      <td>Noise - Residential</td>\n",
              "      <td>Loud Music/Party</td>\n",
              "      <td>Residential Building/House</td>\n",
              "      <td>11216</td>\n",
              "      <td>761 LINCOLN PLACE</td>\n",
              "      <td>LINCOLN PLACE</td>\n",
              "      <td>ROGERS AVENUE</td>\n",
              "      <td>NOSTRAND AVENUE</td>\n",
              "      <td>NaN</td>\n",
              "      <td>NaN</td>\n",
              "      <td>ADDRESS</td>\n",
              "      <td>BROOKLYN</td>\n",
              "      <td>NaN</td>\n",
              "      <td>Precinct</td>\n",
              "      <td>Closed</td>\n",
              "      <td>08/01/2018 08:00:54 AM</td>\n",
              "      <td>The Police Department responded to the complai...</td>\n",
              "      <td>08/01/2018 12:49:55 AM</td>\n",
              "      <td>08 BROOKLYN</td>\n",
              "      <td>3.012540e+09</td>\n",
              "      <td>BROOKLYN</td>\n",
              "      <td>997732.0</td>\n",
              "      <td>183674.0</td>\n",
              "      <td>MOBILE</td>\n",
              "      <td>Unspecified</td>\n",
              "      <td>BROOKLYN</td>\n",
              "      <td>NaN</td>\n",
              "      <td>NaN</td>\n",
              "      <td>NaN</td>\n",
              "      <td>NaN</td>\n",
              "      <td>NaN</td>\n",
              "      <td>NaN</td>\n",
              "      <td>NaN</td>\n",
              "      <td>40.670809</td>\n",
              "      <td>-73.951399</td>\n",
              "      <td>(40.67080917938279, -73.9513990916184)</td>\n",
              "      <td>308.0</td>\n",
              "    </tr>\n",
              "    <tr>\n",
              "      <th>3</th>\n",
              "      <td>3</td>\n",
              "      <td>3</td>\n",
              "      <td>39894246</td>\n",
              "      <td>08/01/2018 12:01:00 AM</td>\n",
              "      <td>08/02/2018 10:30:00 PM</td>\n",
              "      <td>DEP</td>\n",
              "      <td>Department of Environmental Protection</td>\n",
              "      <td>Noise</td>\n",
              "      <td>Noise: Construction Before/After Hours (NM1)</td>\n",
              "      <td>NaN</td>\n",
              "      <td>10010</td>\n",
              "      <td>NaN</td>\n",
              "      <td>NaN</td>\n",
              "      <td>NaN</td>\n",
              "      <td>NaN</td>\n",
              "      <td>5 AVENUE</td>\n",
              "      <td>EAST 21 STREET</td>\n",
              "      <td>INTERSECTION</td>\n",
              "      <td>NEW YORK</td>\n",
              "      <td>NaN</td>\n",
              "      <td>NaN</td>\n",
              "      <td>Closed</td>\n",
              "      <td>NaN</td>\n",
              "      <td>The Department of Environmental Protection did...</td>\n",
              "      <td>08/02/2018 10:30:00 PM</td>\n",
              "      <td>05 MANHATTAN</td>\n",
              "      <td>NaN</td>\n",
              "      <td>MANHATTAN</td>\n",
              "      <td>986878.0</td>\n",
              "      <td>208974.0</td>\n",
              "      <td>PHONE</td>\n",
              "      <td>Unspecified</td>\n",
              "      <td>MANHATTAN</td>\n",
              "      <td>NaN</td>\n",
              "      <td>NaN</td>\n",
              "      <td>NaN</td>\n",
              "      <td>NaN</td>\n",
              "      <td>NaN</td>\n",
              "      <td>NaN</td>\n",
              "      <td>NaN</td>\n",
              "      <td>40.740262</td>\n",
              "      <td>-73.990517</td>\n",
              "      <td>(40.74026158873342, -73.99051651686905)</td>\n",
              "      <td>105.0</td>\n",
              "    </tr>\n",
              "    <tr>\n",
              "      <th>4</th>\n",
              "      <td>4</td>\n",
              "      <td>4</td>\n",
              "      <td>39881329</td>\n",
              "      <td>08/01/2018 12:01:00 AM</td>\n",
              "      <td>08/05/2018 12:00:00 AM</td>\n",
              "      <td>DSNY</td>\n",
              "      <td>Department of Sanitation</td>\n",
              "      <td>Request Large Bulky Item Collection</td>\n",
              "      <td>Request Large Bulky Item Collection</td>\n",
              "      <td>Sidewalk</td>\n",
              "      <td>11413</td>\n",
              "      <td>121-28 198 STREET</td>\n",
              "      <td>198 STREET</td>\n",
              "      <td>120 AVENUE</td>\n",
              "      <td>122 AVENUE</td>\n",
              "      <td>NaN</td>\n",
              "      <td>NaN</td>\n",
              "      <td>ADDRESS</td>\n",
              "      <td>Springfield Gardens</td>\n",
              "      <td>NaN</td>\n",
              "      <td>NaN</td>\n",
              "      <td>Closed</td>\n",
              "      <td>NaN</td>\n",
              "      <td>NaN</td>\n",
              "      <td>08/05/2018 12:00:00 AM</td>\n",
              "      <td>12 QUEENS</td>\n",
              "      <td>4.126830e+09</td>\n",
              "      <td>QUEENS</td>\n",
              "      <td>1053308.0</td>\n",
              "      <td>190084.0</td>\n",
              "      <td>PHONE</td>\n",
              "      <td>Unspecified</td>\n",
              "      <td>QUEENS</td>\n",
              "      <td>NaN</td>\n",
              "      <td>NaN</td>\n",
              "      <td>NaN</td>\n",
              "      <td>NaN</td>\n",
              "      <td>NaN</td>\n",
              "      <td>NaN</td>\n",
              "      <td>NaN</td>\n",
              "      <td>40.688144</td>\n",
              "      <td>-73.750990</td>\n",
              "      <td>(40.68814402968042, -73.75098958473612)</td>\n",
              "      <td>412.0</td>\n",
              "    </tr>\n",
              "  </tbody>\n",
              "</table>\n",
              "</div>"
            ],
            "text/plain": [
              "   Unnamed: 0  Unnamed: 0.1  unique_key            created_date  \\\n",
              "0           0             0    39888071  08/01/2018 12:00:10 AM   \n",
              "1           1             1    39889166  08/01/2018 12:00:26 AM   \n",
              "2           2             2    39882869  08/01/2018 12:00:54 AM   \n",
              "3           3             3    39894246  08/01/2018 12:01:00 AM   \n",
              "4           4             4    39881329  08/01/2018 12:01:00 AM   \n",
              "\n",
              "              closed_date agency  \\\n",
              "0  08/01/2018 01:52:46 AM    DHS   \n",
              "1  08/18/2018 10:46:43 AM    HPD   \n",
              "2  08/01/2018 12:49:55 AM   NYPD   \n",
              "3  08/02/2018 10:30:00 PM    DEP   \n",
              "4  08/05/2018 12:00:00 AM   DSNY   \n",
              "\n",
              "                                         agency_name  \\\n",
              "0  Operations Unit - Department of Homeless Services   \n",
              "1  Department of Housing Preservation and Develop...   \n",
              "2                    New York City Police Department   \n",
              "3             Department of Environmental Protection   \n",
              "4                           Department of Sanitation   \n",
              "\n",
              "                        complaint_type  \\\n",
              "0           Homeless Person Assistance   \n",
              "1                          DOOR/WINDOW   \n",
              "2                  Noise - Residential   \n",
              "3                                Noise   \n",
              "4  Request Large Bulky Item Collection   \n",
              "\n",
              "                                     descriptor               location_type  \\\n",
              "0                                           NaN                       Other   \n",
              "1                                          DOOR        RESIDENTIAL BUILDING   \n",
              "2                              Loud Music/Party  Residential Building/House   \n",
              "3  Noise: Construction Before/After Hours (NM1)                         NaN   \n",
              "4           Request Large Bulky Item Collection                    Sidewalk   \n",
              "\n",
              "  incident_zip      incident_address       street_name cross_street_1  \\\n",
              "0        10029  200 EAST  109 STREET  EAST  109 STREET       3 AVENUE   \n",
              "1        10031  528 WEST  136 STREET  WEST  136 STREET            NaN   \n",
              "2        11216     761 LINCOLN PLACE     LINCOLN PLACE  ROGERS AVENUE   \n",
              "3        10010                   NaN               NaN            NaN   \n",
              "4        11413     121-28 198 STREET        198 STREET     120 AVENUE   \n",
              "\n",
              "    cross_street_2 intersection_street_1 intersection_street_2  address_type  \\\n",
              "0         2 AVENUE                   NaN                   NaN       ADDRESS   \n",
              "1              NaN                   NaN                   NaN       ADDRESS   \n",
              "2  NOSTRAND AVENUE                   NaN                   NaN       ADDRESS   \n",
              "3              NaN              5 AVENUE        EAST 21 STREET  INTERSECTION   \n",
              "4       122 AVENUE                   NaN                   NaN       ADDRESS   \n",
              "\n",
              "                  city landmark facility_type  status                due_date  \\\n",
              "0             NEW YORK      NaN           NaN  Closed  08/01/2018 01:00:10 AM   \n",
              "1             NEW YORK      NaN           NaN  Closed                     NaN   \n",
              "2             BROOKLYN      NaN      Precinct  Closed  08/01/2018 08:00:54 AM   \n",
              "3             NEW YORK      NaN           NaN  Closed                     NaN   \n",
              "4  Springfield Gardens      NaN           NaN  Closed                     NaN   \n",
              "\n",
              "                              resolution_description  \\\n",
              "0  The mobile outreach response team offered serv...   \n",
              "1  The Department of Housing Preservation and Dev...   \n",
              "2  The Police Department responded to the complai...   \n",
              "3  The Department of Environmental Protection did...   \n",
              "4                                                NaN   \n",
              "\n",
              "  resolution_action_updated_date community_board           bbl    borough  \\\n",
              "0         08/01/2018 01:52:46 AM    11 MANHATTAN  1.016560e+09  MANHATTAN   \n",
              "1         08/18/2018 10:46:43 AM    09 MANHATTAN  1.019880e+09  MANHATTAN   \n",
              "2         08/01/2018 12:49:55 AM     08 BROOKLYN  3.012540e+09   BROOKLYN   \n",
              "3         08/02/2018 10:30:00 PM    05 MANHATTAN           NaN  MANHATTAN   \n",
              "4         08/05/2018 12:00:00 AM       12 QUEENS  4.126830e+09     QUEENS   \n",
              "\n",
              "   x_coordinate_(state_plane)  y_coordinate_(state_plane)  \\\n",
              "0                   1000049.0                    228317.0   \n",
              "1                    997239.0                    238074.0   \n",
              "2                    997732.0                    183674.0   \n",
              "3                    986878.0                    208974.0   \n",
              "4                   1053308.0                    190084.0   \n",
              "\n",
              "  open_data_channel_type park_facility_name park_borough vehicle_type  \\\n",
              "0                 MOBILE        Unspecified    MANHATTAN          NaN   \n",
              "1                  PHONE        Unspecified    MANHATTAN          NaN   \n",
              "2                 MOBILE        Unspecified     BROOKLYN          NaN   \n",
              "3                  PHONE        Unspecified    MANHATTAN          NaN   \n",
              "4                  PHONE        Unspecified       QUEENS          NaN   \n",
              "\n",
              "  taxi_company_borough taxi_pick_up_location bridge_highway_name  \\\n",
              "0                  NaN                   NaN                 NaN   \n",
              "1                  NaN                   NaN                 NaN   \n",
              "2                  NaN                   NaN                 NaN   \n",
              "3                  NaN                   NaN                 NaN   \n",
              "4                  NaN                   NaN                 NaN   \n",
              "\n",
              "  bridge_highway_direction road_ramp bridge_highway_segment   latitude  \\\n",
              "0                      NaN       NaN                    NaN  40.793339   \n",
              "1                      NaN       NaN                    NaN  40.820124   \n",
              "2                      NaN       NaN                    NaN  40.670809   \n",
              "3                      NaN       NaN                    NaN  40.740262   \n",
              "4                      NaN       NaN                    NaN  40.688144   \n",
              "\n",
              "   longitude                                 location  borocd  \n",
              "0 -73.942942   (40.79333937834769, -73.9429417746998)   111.0  \n",
              "1 -73.953071   (40.82012422332215, -73.9530712339799)   109.0  \n",
              "2 -73.951399   (40.67080917938279, -73.9513990916184)   308.0  \n",
              "3 -73.990517  (40.74026158873342, -73.99051651686905)   105.0  \n",
              "4 -73.750990  (40.68814402968042, -73.75098958473612)   412.0  "
            ]
          },
          "metadata": {
            "tags": []
          },
          "execution_count": 13
        }
      ]
    },
    {
      "cell_type": "markdown",
      "metadata": {
        "id": "8ON17Y050-Yz",
        "colab_type": "text"
      },
      "source": [
        "#Step 5. \n",
        "Group the 311 subset by 'borocd' to get the count of 'Homeless Person Assistance' requests per community district"
      ]
    },
    {
      "cell_type": "code",
      "metadata": {
        "id": "B2ZZp2TiTprP",
        "colab_type": "code",
        "colab": {}
      },
      "source": [
        "homeless = df[df.complaint_type == 'Homeless Person Assistance']"
      ],
      "execution_count": 0,
      "outputs": []
    },
    {
      "cell_type": "code",
      "metadata": {
        "id": "YHmH5ImrWEkU",
        "colab_type": "code",
        "outputId": "50987a20-7b66-4661-bb2c-24ab32c4c607",
        "colab": {
          "base_uri": "https://localhost:8080/",
          "height": 1000
        }
      },
      "source": [
        "count_homeless = homeless.groupby('borocd').size().reset_index(name='count_of_homeless_311_requests')\n",
        "print(count_homeless)"
      ],
      "execution_count": 15,
      "outputs": [
        {
          "output_type": "stream",
          "text": [
            "    borocd  count_of_homeless_311_requests\n",
            "0    101.0                             758\n",
            "1    102.0                             965\n",
            "2    103.0                             520\n",
            "3    104.0                            1055\n",
            "4    105.0                            3020\n",
            "5    106.0                             753\n",
            "6    107.0                            1684\n",
            "7    108.0                             633\n",
            "8    109.0                             303\n",
            "9    110.0                             283\n",
            "10   111.0                             373\n",
            "11   112.0                             262\n",
            "12   201.0                             188\n",
            "13   202.0                              40\n",
            "14   203.0                              47\n",
            "15   204.0                             122\n",
            "16   205.0                             101\n",
            "17   206.0                             108\n",
            "18   207.0                              88\n",
            "19   208.0                              99\n",
            "20   209.0                              57\n",
            "21   210.0                              30\n",
            "22   211.0                              52\n",
            "23   212.0                              66\n",
            "24   301.0                             338\n",
            "25   302.0                             414\n",
            "26   303.0                             262\n",
            "27   304.0                             215\n",
            "28   305.0                             162\n",
            "29   306.0                             338\n",
            "30   307.0                             209\n",
            "31   308.0                             153\n",
            "32   309.0                              86\n",
            "33   310.0                             191\n",
            "34   311.0                             127\n",
            "35   312.0                             103\n",
            "36   313.0                             159\n",
            "37   314.0                             167\n",
            "38   315.0                             129\n",
            "39   316.0                              49\n",
            "40   317.0                             109\n",
            "41   318.0                             114\n",
            "42   401.0                             254\n",
            "43   402.0                             200\n",
            "44   403.0                              98\n",
            "45   404.0                             132\n",
            "46   405.0                             115\n",
            "47   406.0                             137\n",
            "48   407.0                              95\n",
            "49   408.0                              44\n",
            "50   409.0                              70\n",
            "51   410.0                              40\n",
            "52   411.0                               8\n",
            "53   412.0                             152\n",
            "54   413.0                              39\n",
            "55   414.0                              53\n",
            "56   501.0                              41\n",
            "57   502.0                              34\n",
            "58   503.0                              18\n"
          ],
          "name": "stdout"
        }
      ]
    },
    {
      "cell_type": "markdown",
      "metadata": {
        "id": "bRXVeJfiXGjo",
        "colab_type": "text"
      },
      "source": [
        "#Step 6. \n",
        "Merge the homeless 311 request count table (from Step 5) with the shelter count table (from Step 3).\n",
        "\n",
        "Tip: Not all community districts have homeless facilities in them. Use a left join with the 311 complaints as the left table and shelter counts as the right table. After doing this, you should fill in the new NaNs with zeros using the .fillna(0) method on your dataframe."
      ]
    },
    {
      "cell_type": "code",
      "metadata": {
        "id": "p3rpqNZwe_Yp",
        "colab_type": "code",
        "colab": {}
      },
      "source": [
        "# merging for 'homelss 311' with the 'shelter count' data frame\n",
        "merge_data = pd.merge(left=count_homeless, how='left', right=shelter_filtered, left_on='borocd', right_on='Community District')"
      ],
      "execution_count": 0,
      "outputs": []
    },
    {
      "cell_type": "code",
      "metadata": {
        "id": "2Af25Ma4vmqe",
        "colab_type": "code",
        "colab": {
          "base_uri": "https://localhost:8080/",
          "height": 275
        },
        "outputId": "859fc8c8-5c70-4f13-cdaa-272f730356a2"
      },
      "source": [
        "# quick check\n",
        "merge_data.head()"
      ],
      "execution_count": 17,
      "outputs": [
        {
          "output_type": "execute_result",
          "data": {
            "text/html": [
              "<div>\n",
              "<style scoped>\n",
              "    .dataframe tbody tr th:only-of-type {\n",
              "        vertical-align: middle;\n",
              "    }\n",
              "\n",
              "    .dataframe tbody tr th {\n",
              "        vertical-align: top;\n",
              "    }\n",
              "\n",
              "    .dataframe thead th {\n",
              "        text-align: right;\n",
              "    }\n",
              "</style>\n",
              "<table border=\"1\" class=\"dataframe\">\n",
              "  <thead>\n",
              "    <tr style=\"text-align: right;\">\n",
              "      <th></th>\n",
              "      <th>borocd</th>\n",
              "      <th>count_of_homeless_311_requests</th>\n",
              "      <th>Report Date</th>\n",
              "      <th>Borough</th>\n",
              "      <th>Community District</th>\n",
              "      <th>Adult Family Comm Hotel</th>\n",
              "      <th>Adult Family Shelter</th>\n",
              "      <th>Adult Shelter</th>\n",
              "      <th>Adult Shelter Comm Hotel</th>\n",
              "      <th>FWC Cluster</th>\n",
              "      <th>FWC Comm Hotel</th>\n",
              "      <th>FWC Shelter</th>\n",
              "      <th>total</th>\n",
              "    </tr>\n",
              "  </thead>\n",
              "  <tbody>\n",
              "    <tr>\n",
              "      <th>0</th>\n",
              "      <td>101.0</td>\n",
              "      <td>758</td>\n",
              "      <td>09/30/2019</td>\n",
              "      <td>Manhattan</td>\n",
              "      <td>101.0</td>\n",
              "      <td>0.0</td>\n",
              "      <td>0.0</td>\n",
              "      <td>0.0</td>\n",
              "      <td>0.0</td>\n",
              "      <td>0.0</td>\n",
              "      <td>1.0</td>\n",
              "      <td>0.0</td>\n",
              "      <td>1.0</td>\n",
              "    </tr>\n",
              "    <tr>\n",
              "      <th>1</th>\n",
              "      <td>102.0</td>\n",
              "      <td>965</td>\n",
              "      <td>NaN</td>\n",
              "      <td>NaN</td>\n",
              "      <td>NaN</td>\n",
              "      <td>NaN</td>\n",
              "      <td>NaN</td>\n",
              "      <td>NaN</td>\n",
              "      <td>NaN</td>\n",
              "      <td>NaN</td>\n",
              "      <td>NaN</td>\n",
              "      <td>NaN</td>\n",
              "      <td>NaN</td>\n",
              "    </tr>\n",
              "    <tr>\n",
              "      <th>2</th>\n",
              "      <td>103.0</td>\n",
              "      <td>520</td>\n",
              "      <td>09/30/2019</td>\n",
              "      <td>Manhattan</td>\n",
              "      <td>103.0</td>\n",
              "      <td>0.0</td>\n",
              "      <td>0.0</td>\n",
              "      <td>7.0</td>\n",
              "      <td>2.0</td>\n",
              "      <td>3.0</td>\n",
              "      <td>2.0</td>\n",
              "      <td>3.0</td>\n",
              "      <td>17.0</td>\n",
              "    </tr>\n",
              "    <tr>\n",
              "      <th>3</th>\n",
              "      <td>104.0</td>\n",
              "      <td>1055</td>\n",
              "      <td>09/30/2019</td>\n",
              "      <td>Manhattan</td>\n",
              "      <td>104.0</td>\n",
              "      <td>0.0</td>\n",
              "      <td>1.0</td>\n",
              "      <td>3.0</td>\n",
              "      <td>0.0</td>\n",
              "      <td>0.0</td>\n",
              "      <td>4.0</td>\n",
              "      <td>0.0</td>\n",
              "      <td>8.0</td>\n",
              "    </tr>\n",
              "    <tr>\n",
              "      <th>4</th>\n",
              "      <td>105.0</td>\n",
              "      <td>3020</td>\n",
              "      <td>09/30/2019</td>\n",
              "      <td>Manhattan</td>\n",
              "      <td>105.0</td>\n",
              "      <td>0.0</td>\n",
              "      <td>1.0</td>\n",
              "      <td>0.0</td>\n",
              "      <td>0.0</td>\n",
              "      <td>0.0</td>\n",
              "      <td>8.0</td>\n",
              "      <td>1.0</td>\n",
              "      <td>10.0</td>\n",
              "    </tr>\n",
              "  </tbody>\n",
              "</table>\n",
              "</div>"
            ],
            "text/plain": [
              "   borocd  count_of_homeless_311_requests Report Date    Borough  \\\n",
              "0   101.0                             758  09/30/2019  Manhattan   \n",
              "1   102.0                             965         NaN        NaN   \n",
              "2   103.0                             520  09/30/2019  Manhattan   \n",
              "3   104.0                            1055  09/30/2019  Manhattan   \n",
              "4   105.0                            3020  09/30/2019  Manhattan   \n",
              "\n",
              "   Community District  Adult Family Comm Hotel  Adult Family Shelter  \\\n",
              "0               101.0                      0.0                   0.0   \n",
              "1                 NaN                      NaN                   NaN   \n",
              "2               103.0                      0.0                   0.0   \n",
              "3               104.0                      0.0                   1.0   \n",
              "4               105.0                      0.0                   1.0   \n",
              "\n",
              "   Adult Shelter  Adult Shelter Comm Hotel  FWC Cluster  FWC Comm Hotel  \\\n",
              "0            0.0                       0.0          0.0             1.0   \n",
              "1            NaN                       NaN          NaN             NaN   \n",
              "2            7.0                       2.0          3.0             2.0   \n",
              "3            3.0                       0.0          0.0             4.0   \n",
              "4            0.0                       0.0          0.0             8.0   \n",
              "\n",
              "   FWC Shelter  total  \n",
              "0          0.0    1.0  \n",
              "1          NaN    NaN  \n",
              "2          3.0   17.0  \n",
              "3          0.0    8.0  \n",
              "4          1.0   10.0  "
            ]
          },
          "metadata": {
            "tags": []
          },
          "execution_count": 17
        }
      ]
    },
    {
      "cell_type": "code",
      "metadata": {
        "id": "ZPmy76gkuahU",
        "colab_type": "code",
        "colab": {
          "base_uri": "https://localhost:8080/",
          "height": 275
        },
        "outputId": "f62843fd-7372-471b-9997-8f174ba170f2"
      },
      "source": [
        "# fill in the new NaNs with zeros using the .fillna(0) method on your dataframe.\n",
        "merge_data=merge_data.fillna(0)\n",
        "merge_data.head()"
      ],
      "execution_count": 18,
      "outputs": [
        {
          "output_type": "execute_result",
          "data": {
            "text/html": [
              "<div>\n",
              "<style scoped>\n",
              "    .dataframe tbody tr th:only-of-type {\n",
              "        vertical-align: middle;\n",
              "    }\n",
              "\n",
              "    .dataframe tbody tr th {\n",
              "        vertical-align: top;\n",
              "    }\n",
              "\n",
              "    .dataframe thead th {\n",
              "        text-align: right;\n",
              "    }\n",
              "</style>\n",
              "<table border=\"1\" class=\"dataframe\">\n",
              "  <thead>\n",
              "    <tr style=\"text-align: right;\">\n",
              "      <th></th>\n",
              "      <th>borocd</th>\n",
              "      <th>count_of_homeless_311_requests</th>\n",
              "      <th>Report Date</th>\n",
              "      <th>Borough</th>\n",
              "      <th>Community District</th>\n",
              "      <th>Adult Family Comm Hotel</th>\n",
              "      <th>Adult Family Shelter</th>\n",
              "      <th>Adult Shelter</th>\n",
              "      <th>Adult Shelter Comm Hotel</th>\n",
              "      <th>FWC Cluster</th>\n",
              "      <th>FWC Comm Hotel</th>\n",
              "      <th>FWC Shelter</th>\n",
              "      <th>total</th>\n",
              "    </tr>\n",
              "  </thead>\n",
              "  <tbody>\n",
              "    <tr>\n",
              "      <th>0</th>\n",
              "      <td>101.0</td>\n",
              "      <td>758</td>\n",
              "      <td>09/30/2019</td>\n",
              "      <td>Manhattan</td>\n",
              "      <td>101.0</td>\n",
              "      <td>0.0</td>\n",
              "      <td>0.0</td>\n",
              "      <td>0.0</td>\n",
              "      <td>0.0</td>\n",
              "      <td>0.0</td>\n",
              "      <td>1.0</td>\n",
              "      <td>0.0</td>\n",
              "      <td>1.0</td>\n",
              "    </tr>\n",
              "    <tr>\n",
              "      <th>1</th>\n",
              "      <td>102.0</td>\n",
              "      <td>965</td>\n",
              "      <td>0</td>\n",
              "      <td>0</td>\n",
              "      <td>0.0</td>\n",
              "      <td>0.0</td>\n",
              "      <td>0.0</td>\n",
              "      <td>0.0</td>\n",
              "      <td>0.0</td>\n",
              "      <td>0.0</td>\n",
              "      <td>0.0</td>\n",
              "      <td>0.0</td>\n",
              "      <td>0.0</td>\n",
              "    </tr>\n",
              "    <tr>\n",
              "      <th>2</th>\n",
              "      <td>103.0</td>\n",
              "      <td>520</td>\n",
              "      <td>09/30/2019</td>\n",
              "      <td>Manhattan</td>\n",
              "      <td>103.0</td>\n",
              "      <td>0.0</td>\n",
              "      <td>0.0</td>\n",
              "      <td>7.0</td>\n",
              "      <td>2.0</td>\n",
              "      <td>3.0</td>\n",
              "      <td>2.0</td>\n",
              "      <td>3.0</td>\n",
              "      <td>17.0</td>\n",
              "    </tr>\n",
              "    <tr>\n",
              "      <th>3</th>\n",
              "      <td>104.0</td>\n",
              "      <td>1055</td>\n",
              "      <td>09/30/2019</td>\n",
              "      <td>Manhattan</td>\n",
              "      <td>104.0</td>\n",
              "      <td>0.0</td>\n",
              "      <td>1.0</td>\n",
              "      <td>3.0</td>\n",
              "      <td>0.0</td>\n",
              "      <td>0.0</td>\n",
              "      <td>4.0</td>\n",
              "      <td>0.0</td>\n",
              "      <td>8.0</td>\n",
              "    </tr>\n",
              "    <tr>\n",
              "      <th>4</th>\n",
              "      <td>105.0</td>\n",
              "      <td>3020</td>\n",
              "      <td>09/30/2019</td>\n",
              "      <td>Manhattan</td>\n",
              "      <td>105.0</td>\n",
              "      <td>0.0</td>\n",
              "      <td>1.0</td>\n",
              "      <td>0.0</td>\n",
              "      <td>0.0</td>\n",
              "      <td>0.0</td>\n",
              "      <td>8.0</td>\n",
              "      <td>1.0</td>\n",
              "      <td>10.0</td>\n",
              "    </tr>\n",
              "  </tbody>\n",
              "</table>\n",
              "</div>"
            ],
            "text/plain": [
              "   borocd  count_of_homeless_311_requests Report Date    Borough  \\\n",
              "0   101.0                             758  09/30/2019  Manhattan   \n",
              "1   102.0                             965           0          0   \n",
              "2   103.0                             520  09/30/2019  Manhattan   \n",
              "3   104.0                            1055  09/30/2019  Manhattan   \n",
              "4   105.0                            3020  09/30/2019  Manhattan   \n",
              "\n",
              "   Community District  Adult Family Comm Hotel  Adult Family Shelter  \\\n",
              "0               101.0                      0.0                   0.0   \n",
              "1                 0.0                      0.0                   0.0   \n",
              "2               103.0                      0.0                   0.0   \n",
              "3               104.0                      0.0                   1.0   \n",
              "4               105.0                      0.0                   1.0   \n",
              "\n",
              "   Adult Shelter  Adult Shelter Comm Hotel  FWC Cluster  FWC Comm Hotel  \\\n",
              "0            0.0                       0.0          0.0             1.0   \n",
              "1            0.0                       0.0          0.0             0.0   \n",
              "2            7.0                       2.0          3.0             2.0   \n",
              "3            3.0                       0.0          0.0             4.0   \n",
              "4            0.0                       0.0          0.0             8.0   \n",
              "\n",
              "   FWC Shelter  total  \n",
              "0          0.0    1.0  \n",
              "1          0.0    0.0  \n",
              "2          3.0   17.0  \n",
              "3          0.0    8.0  \n",
              "4          1.0   10.0  "
            ]
          },
          "metadata": {
            "tags": []
          },
          "execution_count": 18
        }
      ]
    },
    {
      "cell_type": "markdown",
      "metadata": {
        "id": "XQgpCVNoflCd",
        "colab_type": "text"
      },
      "source": [
        "#Step 7. \n",
        "Produce a scatter plot of the data using the matplotlib package. What is your initial impression on whether there is a correlation between number of shelters and count of 311 homeless service requests?"
      ]
    },
    {
      "cell_type": "code",
      "metadata": {
        "id": "iuBU4bXzfr4X",
        "colab_type": "code",
        "colab": {
          "base_uri": "https://localhost:8080/",
          "height": 404
        },
        "outputId": "ad837240-e27e-4962-8c06-9efd4daaba61"
      },
      "source": [
        "# define the data that will be used\n",
        "#np.array\n",
        "# hex color picker: https://www.google.com/search?q=color+picker\n",
        "x = np.array(merge_data.total)\n",
        "y = np.array(merge_data.count_of_homeless_311_requests)\n",
        "\n",
        "color = '#a83232' \n",
        "area = 50 \n",
        "\n",
        "plt.figure(figsize=(15, 6))\n",
        "\n",
        "plt.scatter(x, y, s=area, c=color, edgecolors='black', alpha=0.5) \n",
        "\n",
        "\n",
        "plt.title('311 Homeless Service Requests vs. Shelter Counts')\n",
        "plt.xlabel('Number of Shelters')\n",
        "plt.ylabel('Number of 311 Homeless Service Requests') \n",
        "\n",
        "plt.show()"
      ],
      "execution_count": 19,
      "outputs": [
        {
          "output_type": "display_data",
          "data": {
            "image/png": "[encoded data removed]",
            "text/plain": [
              "<Figure size 1080x432 with 1 Axes>"
            ]
          },
          "metadata": {
            "tags": []
          }
        }
      ]
    },
    {
      "cell_type": "markdown",
      "metadata": {
        "id": "AfGGK6vEfsga",
        "colab_type": "text"
      },
      "source": [
        "#Step 8. \n",
        "Use np.corrcoef(x, y) to identify the correlation coefficient between count of total shelter buildings and count of homeless requests per community district."
      ]
    },
    {
      "cell_type": "code",
      "metadata": {
        "id": "PvlOrmVlfxF3",
        "colab_type": "code",
        "colab": {
          "base_uri": "https://localhost:8080/",
          "height": 51
        },
        "outputId": "6c2176db-5ddc-4a38-8b3b-7f62dd7259f8"
      },
      "source": [
        "# determine the correlation coefficient using the np.corrcoef() function from numpy\n",
        "\n",
        "x = np.array(merge_data['total']/1000)\n",
        "y = np.array(merge_data.count_of_homeless_311_requests)\n",
        "\n",
        "# produces a matrix of the correlation coefficients\n",
        "np.corrcoef(x, y)"
      ],
      "execution_count": 20,
      "outputs": [
        {
          "output_type": "execute_result",
          "data": {
            "text/plain": [
              "array([[ 1.        , -0.02042157],\n",
              "       [-0.02042157,  1.        ]])"
            ]
          },
          "metadata": {
            "tags": []
          },
          "execution_count": 20
        }
      ]
    },
    {
      "cell_type": "markdown",
      "metadata": {
        "id": "eCLRSkv6fxmm",
        "colab_type": "text"
      },
      "source": [
        "#Step 9. \n",
        "Perform a linear regression with count of total shelter buildings as the independent variable and count of homeless requests as the dependent variable"
      ]
    },
    {
      "cell_type": "code",
      "metadata": {
        "id": "4T5zk8Xsf2o9",
        "colab_type": "code",
        "colab": {
          "base_uri": "https://localhost:8080/",
          "height": 1000
        },
        "outputId": "4f8f5e8f-c728-4f97-fe44-0dacdc7d8fb6"
      },
      "source": [
        "# Note that y is the first argument, before x. This is different than plotting and the correlation function.\n",
        "\n",
        "# y = dependent variable (Number of 311 Homeless Service Requests)\n",
        "y = np.array(merge_data.count_of_homeless_311_requests)\n",
        "\n",
        "# x = independent variable (Number of Shelters) with a constant added\n",
        "x = np.array(merge_data['total']/1000)\n",
        "x = sm.add_constant(x)\n",
        "\n",
        "print(x)\n",
        "\n",
        "model = sm.OLS(y, x).fit()\n",
        "\n",
        "# Print out the statistics\n",
        "\n",
        "print(model.summary())"
      ],
      "execution_count": 21,
      "outputs": [
        {
          "output_type": "stream",
          "text": [
            "[[1.    0.001]\n",
            " [1.    0.   ]\n",
            " [1.    0.017]\n",
            " [1.    0.008]\n",
            " [1.    0.01 ]\n",
            " [1.    0.003]\n",
            " [1.    0.007]\n",
            " [1.    0.001]\n",
            " [1.    0.006]\n",
            " [1.    0.023]\n",
            " [1.    0.025]\n",
            " [1.    0.003]\n",
            " [1.    0.015]\n",
            " [1.    0.015]\n",
            " [1.    0.008]\n",
            " [1.    0.008]\n",
            " [1.    0.023]\n",
            " [1.    0.023]\n",
            " [1.    0.032]\n",
            " [1.    0.032]\n",
            " [1.    0.021]\n",
            " [1.    0.021]\n",
            " [1.    0.026]\n",
            " [1.    0.026]\n",
            " [1.    0.013]\n",
            " [1.    0.013]\n",
            " [1.    0.001]\n",
            " [1.    0.001]\n",
            " [1.    0.008]\n",
            " [1.    0.008]\n",
            " [1.    0.003]\n",
            " [1.    0.003]\n",
            " [1.    0.   ]\n",
            " [1.    0.   ]\n",
            " [1.    0.004]\n",
            " [1.    0.004]\n",
            " [1.    0.007]\n",
            " [1.    0.005]\n",
            " [1.    0.022]\n",
            " [1.    0.01 ]\n",
            " [1.    0.018]\n",
            " [1.    0.004]\n",
            " [1.    0.009]\n",
            " [1.    0.011]\n",
            " [1.    0.002]\n",
            " [1.    0.   ]\n",
            " [1.    0.   ]\n",
            " [1.    0.002]\n",
            " [1.    0.001]\n",
            " [1.    0.001]\n",
            " [1.    0.001]\n",
            " [1.    0.024]\n",
            " [1.    0.004]\n",
            " [1.    0.003]\n",
            " [1.    0.005]\n",
            " [1.    0.005]\n",
            " [1.    0.005]\n",
            " [1.    0.003]\n",
            " [1.    0.   ]\n",
            " [1.    0.   ]\n",
            " [1.    0.003]\n",
            " [1.    0.001]\n",
            " [1.    0.001]\n",
            " [1.    0.007]\n",
            " [1.    0.   ]\n",
            " [1.    0.022]\n",
            " [1.    0.009]\n",
            " [1.    0.003]\n",
            " [1.    0.001]\n",
            " [1.    0.   ]\n",
            " [1.    0.   ]]\n",
            "                            OLS Regression Results                            \n",
            "==============================================================================\n",
            "Dep. Variable:                      y   R-squared:                       0.000\n",
            "Model:                            OLS   Adj. R-squared:                 -0.014\n",
            "Method:                 Least Squares   F-statistic:                   0.02879\n",
            "Date:                Wed, 04 Dec 2019   Prob (F-statistic):              0.866\n",
            "Time:                        04:07:10   Log-Likelihood:                -531.17\n",
            "No. Observations:                  71   AIC:                             1066.\n",
            "Df Residuals:                      69   BIC:                             1071.\n",
            "Df Model:                           1                                         \n",
            "Covariance Type:            nonrobust                                         \n",
            "==============================================================================\n",
            "                 coef    std err          t      P>|t|      [0.025      0.975]\n",
            "------------------------------------------------------------------------------\n",
            "const        254.2812     71.436      3.560      0.001     111.770     396.793\n",
            "x1          -988.2949   5824.818     -0.170      0.866   -1.26e+04    1.06e+04\n",
            "==============================================================================\n",
            "Omnibus:                      101.982   Durbin-Watson:                   0.915\n",
            "Prob(Omnibus):                  0.000   Jarque-Bera (JB):             1905.255\n",
            "Skew:                           4.506   Prob(JB):                         0.00\n",
            "Kurtosis:                      26.724   Cond. No.                         113.\n",
            "==============================================================================\n",
            "\n",
            "Warnings:\n",
            "[1] Standard Errors assume that the covariance matrix of the errors is correctly specified.\n"
          ],
          "name": "stdout"
        }
      ]
    },
    {
      "cell_type": "markdown",
      "metadata": {
        "id": "Xj0aYy3Uf3ES",
        "colab_type": "text"
      },
      "source": [
        "#Step 10. \n",
        "Produce a scatter plot of the data with the line of best fit from your linear regression using the matplotlib package"
      ]
    },
    {
      "cell_type": "code",
      "metadata": {
        "id": "5c0CxOQa_Q_i",
        "colab_type": "code",
        "colab": {
          "base_uri": "https://localhost:8080/",
          "height": 51
        },
        "outputId": "5b3ee31f-cea7-4a33-d48b-34d4a9c8e870"
      },
      "source": [
        "p = model.params # intercept and coefficient\n",
        "print('parameters:', p)\n",
        "\n",
        "r2 = model.rsquared\n",
        "print('R2:', r2)"
      ],
      "execution_count": 22,
      "outputs": [
        {
          "output_type": "stream",
          "text": [
            "parameters: [ 254.28120088 -988.2949462 ]\n",
            "R2: 0.0004170404635194247\n"
          ],
          "name": "stdout"
        }
      ]
    },
    {
      "cell_type": "code",
      "metadata": {
        "id": "t6z-a27P_UAJ",
        "colab_type": "code",
        "colab": {
          "base_uri": "https://localhost:8080/",
          "height": 34
        },
        "outputId": "fd6fbb33-cc19-4560-fd6f-ed5f69d6333f"
      },
      "source": [
        "# let's make labels for the lines of the best fit to use on a scatter plot\n",
        "\n",
        "label = 'y = ' + str(round(p[1],2)) + 'x + ' + str(round(p[0],2)) + '; R2 = ' + str(round(r2,3))\n",
        "print(label)"
      ],
      "execution_count": 23,
      "outputs": [
        {
          "output_type": "stream",
          "text": [
            "y = -988.29x + 254.28; R2 = 0.0\n"
          ],
          "name": "stdout"
        }
      ]
    },
    {
      "cell_type": "code",
      "metadata": {
        "id": "OBmKyBuDf66Q",
        "colab_type": "code",
        "colab": {
          "base_uri": "https://localhost:8080/",
          "height": 404
        },
        "outputId": "35887e0c-e04d-4aab-affa-b26bb054ef39"
      },
      "source": [
        "# create an array of x values for the lines of best fit\n",
        "# x_dummy = np.arange(0,max(merge_data['total])/1000) \n",
        "x_dummy = np.array(merge_data['total']/1000)\n",
        "\n",
        "plt.figure(figsize=(15, 6))\n",
        "\n",
        "plt.scatter(\n",
        "    np.array(merge_data['total']/1000), # x\n",
        "    np.array(merge_data.count_of_homeless_311_requests), # y\n",
        "    s=50, # size of marker\n",
        "    c='#3d03fc', # color hex color picker: https://www.google.com/search?q=color+picker\n",
        "    edgecolors='black', # outline color of the marker\n",
        "    alpha=0.5) # transparency. 0 is 100% transparent. 1 is 100% opaque\n",
        "\n",
        "# line of best fit, with y intercept\n",
        "plt.plot(\n",
        "    x_dummy, \n",
        "    p[0] + p[1] * x_dummy,\n",
        "    c='#00d138', # lighter green\n",
        "    label=label)\n",
        "\n",
        "plt.ylim(0, max(np.array(merge_data.count_of_homeless_311_requests)))\n",
        "\n",
        "plt.title('311 Homeless Service Requests vs. Shelter Counts')\n",
        "plt.xlabel('Number of Shelters')\n",
        "plt.ylabel('Number of 311 Homeless Service Requests')\n",
        "plt.legend()\n",
        "\n",
        "plt.show()"
      ],
      "execution_count": 24,
      "outputs": [
        {
          "output_type": "display_data",
          "data": {
            "image/png": "[encoded data removed]",
            "text/plain": [
              "<Figure size 1080x432 with 1 Axes>"
            ]
          },
          "metadata": {
            "tags": []
          }
        }
      ]
    },
    {
      "cell_type": "code",
      "metadata": {
        "id": "WXnZj0cqAADe",
        "colab_type": "code",
        "colab": {}
      },
      "source": [
        "#Using the seaborn package to easily produce pretty regression charts"
      ],
      "execution_count": 0,
      "outputs": []
    },
    {
      "cell_type": "code",
      "metadata": {
        "id": "lrkZpDdXAHSt",
        "colab_type": "code",
        "colab": {}
      },
      "source": [
        "import seaborn as sns"
      ],
      "execution_count": 0,
      "outputs": []
    },
    {
      "cell_type": "code",
      "metadata": {
        "id": "s1sCLiBgALnv",
        "colab_type": "code",
        "colab": {
          "base_uri": "https://localhost:8080/",
          "height": 296
        },
        "outputId": "db14cff0-5e60-4239-f1b6-cd36c43d776b"
      },
      "source": [
        "# the .regplot() function makes a nice looking scatter plot with a line of best fit\n",
        "# it can consume pandas data series from a dataframe\n",
        "\n",
        "sns.regplot(\n",
        "    x=merge_data['total'],\n",
        "    y=merge_data['count_of_homeless_311_requests'])"
      ],
      "execution_count": 27,
      "outputs": [
        {
          "output_type": "execute_result",
          "data": {
            "text/plain": [
              "<matplotlib.axes._subplots.AxesSubplot at 0x7f1f2c9af940>"
            ]
          },
          "metadata": {
            "tags": []
          },
          "execution_count": 27
        },
        {
          "output_type": "display_data",
          "data": {
            "image/png": "[encoded data removed]",
            "text/plain": [
              "<Figure size 432x288 with 1 Axes>"
            ]
          },
          "metadata": {
            "tags": []
          }
        }
      ]
    },
    {
      "cell_type": "code",
      "metadata": {
        "id": "19WNkmDDAad7",
        "colab_type": "code",
        "colab": {
          "base_uri": "https://localhost:8080/",
          "height": 296
        },
        "outputId": "f8af1b1c-db8c-4ce5-a23f-ac134dfdf5a2"
      },
      "source": [
        "# the .regplot() function makes a nice looking scatter plot with a line of best fit\n",
        "# it can also consume column names and a specified dataframe\n",
        "\n",
        "sns.regplot(\n",
        "    x='total', # note that x and y are the column names in the specified \"data\" table\n",
        "    y='count_of_homeless_311_requests',\n",
        "    data=merge_data)"
      ],
      "execution_count": 28,
      "outputs": [
        {
          "output_type": "execute_result",
          "data": {
            "text/plain": [
              "<matplotlib.axes._subplots.AxesSubplot at 0x7f1f2c9d2fd0>"
            ]
          },
          "metadata": {
            "tags": []
          },
          "execution_count": 28
        },
        {
          "output_type": "display_data",
          "data": {
            "image/png": "[encoded data removed]",
            "text/plain": [
              "<Figure size 432x288 with 1 Axes>"
            ]
          },
          "metadata": {
            "tags": []
          }
        }
      ]
    },
    {
      "cell_type": "markdown",
      "metadata": {
        "id": "KLui7XhQf7Mf",
        "colab_type": "text"
      },
      "source": [
        "#Step 11: \n",
        "Write a sentence or two explaining the results of your analysis. What do the numbers and chart tell you about the relationship between concentration of homeless shelters vs. frequency of 311 requests related to homelessness?"
      ]
    },
    {
      "cell_type": "markdown",
      "metadata": {
        "id": "FSbQe-t8_08-",
        "colab_type": "text"
      },
      "source": [
        "Based on the results of Step 9, R-squared came out to be 0, which means that the relationship between concentration of homeless shelters vs. frequency of 311 requests related to homelessness is not linear/correlated. However, based on the chart, I'm seeing a few outliers and if we remove those outliers, the relationship will likely to become more correlated. "
      ]
    },
    {
      "cell_type": "markdown",
      "metadata": {
        "id": "__FJ0v6if-rb",
        "colab_type": "text"
      },
      "source": [
        ""
      ]
    }
  ]
}